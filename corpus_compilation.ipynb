{
 "cells": [
  {
   "cell_type": "code",
   "execution_count": 1,
   "metadata": {},
   "outputs": [],
   "source": [
    "import numpy as np \n",
    "import pandas as pd\n",
    "\n",
    "#Plotting\n",
    "import matplotlib.pyplot as plt\n",
    "import seaborn as sns\n",
    "from matplotlib.pyplot import figure\n",
    "\n",
    "#Regular expressions\n",
    "import re\n",
    "\n",
    "#Text processing\n",
    "from unicodedata import normalize\n",
    "import nltk \n",
    "from nltk.corpus import stopwords\n",
    "\n",
    "#Huggingface\n",
    "from transformers import Trainer\n",
    "from transformers import AutoTokenizer\n",
    "from transformers import pipeline\n",
    "from sklearn.metrics import confusion_matrix, ConfusionMatrixDisplay\n",
    "from sklearn.metrics import classification_report\n",
    "from transformers.pipelines.pt_utils import KeyDataset\n",
    "from datasets import Dataset\n",
    "from transformers import AutoModelForSequenceClassification\n",
    "from transformers import TrainingArguments\n",
    "\n",
    "#Pytorch and progress bar\n",
    "import torch\n",
    "from torch import nn\n",
    "from tqdm.auto import tqdm\n",
    "\n",
    "#Performance metric\n",
    "from sklearn.metrics import f1_score\n",
    "\n",
    "from os.path import exists"
   ]
  },
  {
   "cell_type": "markdown",
   "metadata": {},
   "source": [
    "### 1. Loading Datasets"
   ]
  },
  {
   "cell_type": "markdown",
   "metadata": {},
   "source": [
    "#### Spanish datasets\n",
    "\n",
    "Selected emotions:\n",
    "\n",
    "    -Sadness\n",
    "    -Fear\n",
    "    -Angry\n",
    "    -Not-relevant"
   ]
  },
  {
   "cell_type": "code",
   "execution_count": 2,
   "metadata": {},
   "outputs": [
    {
     "data": {
      "text/html": [
       "<div>\n",
       "<style scoped>\n",
       "    .dataframe tbody tr th:only-of-type {\n",
       "        vertical-align: middle;\n",
       "    }\n",
       "\n",
       "    .dataframe tbody tr th {\n",
       "        vertical-align: top;\n",
       "    }\n",
       "\n",
       "    .dataframe thead th {\n",
       "        text-align: right;\n",
       "    }\n",
       "</style>\n",
       "<table border=\"1\" class=\"dataframe\">\n",
       "  <thead>\n",
       "    <tr style=\"text-align: right;\">\n",
       "      <th></th>\n",
       "      <th>id</th>\n",
       "      <th>tweet</th>\n",
       "      <th>processed_tweet</th>\n",
       "      <th>emotion</th>\n",
       "    </tr>\n",
       "  </thead>\n",
       "  <tbody>\n",
       "    <tr>\n",
       "      <th>0</th>\n",
       "      <td>0</td>\n",
       "      <td>\"\\\"desastre tras desastre ... #catalunya #espa...</td>\n",
       "      <td>desastre tras desastre</td>\n",
       "      <td>sad</td>\n",
       "    </tr>\n",
       "    <tr>\n",
       "      <th>1</th>\n",
       "      <td>1</td>\n",
       "      <td>\"\\\"No había ninguna duda... y la cubana!!! htt...</td>\n",
       "      <td>no haber ninguno duda cubana</td>\n",
       "      <td>not-relevant</td>\n",
       "    </tr>\n",
       "    <tr>\n",
       "      <th>2</th>\n",
       "      <td>2</td>\n",
       "      <td>\"\\\"En 1año los sanitarios hemos pasado de ser ...</td>\n",
       "      <td>año sanitario haber pasar ser aplaudir agradec...</td>\n",
       "      <td>sad</td>\n",
       "    </tr>\n",
       "    <tr>\n",
       "      <th>3</th>\n",
       "      <td>3</td>\n",
       "      <td>Hey Donald espero que no saltarse sus medicame...</td>\n",
       "      <td>esperar no saltar medicamento mostrar ser hech...</td>\n",
       "      <td>sad</td>\n",
       "    </tr>\n",
       "    <tr>\n",
       "      <th>4</th>\n",
       "      <td>4</td>\n",
       "      <td>los cuales circular dice que si tengo una emer...</td>\n",
       "      <td>circular decir si tener emergencia querer ir h...</td>\n",
       "      <td>fear</td>\n",
       "    </tr>\n",
       "  </tbody>\n",
       "</table>\n",
       "</div>"
      ],
      "text/plain": [
       "   id                                              tweet  \\\n",
       "0   0  \"\\\"desastre tras desastre ... #catalunya #espa...   \n",
       "1   1  \"\\\"No había ninguna duda... y la cubana!!! htt...   \n",
       "2   2  \"\\\"En 1año los sanitarios hemos pasado de ser ...   \n",
       "3   3  Hey Donald espero que no saltarse sus medicame...   \n",
       "4   4  los cuales circular dice que si tengo una emer...   \n",
       "\n",
       "                                     processed_tweet       emotion  \n",
       "0                             desastre tras desastre           sad  \n",
       "1                       no haber ninguno duda cubana  not-relevant  \n",
       "2  año sanitario haber pasar ser aplaudir agradec...           sad  \n",
       "3  esperar no saltar medicamento mostrar ser hech...           sad  \n",
       "4  circular decir si tener emergencia querer ir h...          fear  "
      ]
     },
     "execution_count": 2,
     "metadata": {},
     "output_type": "execute_result"
    }
   ],
   "source": [
    "df_SpanishTweets_COVIDRelated = pd.read_csv(\"spanish_tweets-covid19-merged-dataset-unbalanced.csv\")\n",
    "\n",
    "df_SpanishTweets_COVIDRelated.head()"
   ]
  },
  {
   "cell_type": "markdown",
   "metadata": {},
   "source": [
    "**5260 entries** without null values.\n",
    "\n",
    "Emotions:\n",
    "- sad \n",
    "\n",
    "- not-relevant\n",
    "\n",
    "- fear\n",
    "\n",
    "- happy\n",
    "\n",
    "- angry\n",
    "\n",
    "- surprise"
   ]
  },
  {
   "cell_type": "code",
   "execution_count": 3,
   "metadata": {},
   "outputs": [
    {
     "name": "stdout",
     "output_type": "stream",
     "text": [
      "<class 'pandas.core.frame.DataFrame'>\n",
      "RangeIndex: 5260 entries, 0 to 5259\n",
      "Data columns (total 4 columns):\n",
      " #   Column           Non-Null Count  Dtype \n",
      "---  ------           --------------  ----- \n",
      " 0   id               5260 non-null   int64 \n",
      " 1   tweet            5260 non-null   object\n",
      " 2   processed_tweet  5250 non-null   object\n",
      " 3   emotion          5260 non-null   object\n",
      "dtypes: int64(1), object(3)\n",
      "memory usage: 164.5+ KB\n"
     ]
    }
   ],
   "source": [
    "df_SpanishTweets_COVIDRelated.info()"
   ]
  },
  {
   "cell_type": "code",
   "execution_count": 4,
   "metadata": {},
   "outputs": [
    {
     "data": {
      "text/plain": [
       "angry           1396\n",
       "sad             1231\n",
       "happy           1016\n",
       "fear             801\n",
       "not-relevant     792\n",
       "surprise          24\n",
       "Name: emotion, dtype: int64"
      ]
     },
     "execution_count": 4,
     "metadata": {},
     "output_type": "execute_result"
    }
   ],
   "source": [
    "df_SpanishTweets_COVIDRelated.emotion.value_counts()"
   ]
  },
  {
   "cell_type": "code",
   "execution_count": 5,
   "metadata": {},
   "outputs": [
    {
     "data": {
      "text/plain": [
       "array(['sad', 'not-relevant', 'fear', 'happy', 'angry', 'surprise'],\n",
       "      dtype=object)"
      ]
     },
     "execution_count": 5,
     "metadata": {},
     "output_type": "execute_result"
    }
   ],
   "source": [
    "df_SpanishTweets_COVIDRelated.emotion.unique()"
   ]
  },
  {
   "cell_type": "markdown",
   "metadata": {},
   "source": [
    "#### Depresion related tweets"
   ]
  },
  {
   "cell_type": "code",
   "execution_count": 9,
   "metadata": {},
   "outputs": [
    {
     "data": {
      "text/html": [
       "<div>\n",
       "<style scoped>\n",
       "    .dataframe tbody tr th:only-of-type {\n",
       "        vertical-align: middle;\n",
       "    }\n",
       "\n",
       "    .dataframe tbody tr th {\n",
       "        vertical-align: top;\n",
       "    }\n",
       "\n",
       "    .dataframe thead th {\n",
       "        text-align: right;\n",
       "    }\n",
       "</style>\n",
       "<table border=\"1\" class=\"dataframe\">\n",
       "  <thead>\n",
       "    <tr style=\"text-align: right;\">\n",
       "      <th></th>\n",
       "      <th>id</th>\n",
       "      <th>USER_ID_ANON</th>\n",
       "      <th>tweet</th>\n",
       "      <th>emotion</th>\n",
       "    </tr>\n",
       "  </thead>\n",
       "  <tbody>\n",
       "    <tr>\n",
       "      <th>0</th>\n",
       "      <td>1</td>\n",
       "      <td>1</td>\n",
       "      <td>Deberían eliminar a las malas personas y a los...</td>\n",
       "      <td>depressed</td>\n",
       "    </tr>\n",
       "    <tr>\n",
       "      <th>1</th>\n",
       "      <td>2</td>\n",
       "      <td>1</td>\n",
       "      <td>Ya deja de intentar contarle tus problemas a a...</td>\n",
       "      <td>depressed</td>\n",
       "    </tr>\n",
       "    <tr>\n",
       "      <th>2</th>\n",
       "      <td>3</td>\n",
       "      <td>1</td>\n",
       "      <td>La tristeza es lo más fácil de ocultar de todo...</td>\n",
       "      <td>depressed</td>\n",
       "    </tr>\n",
       "    <tr>\n",
       "      <th>3</th>\n",
       "      <td>4</td>\n",
       "      <td>1</td>\n",
       "      <td>De las peores cosas de la depresión es que no ...</td>\n",
       "      <td>depressed</td>\n",
       "    </tr>\n",
       "    <tr>\n",
       "      <th>4</th>\n",
       "      <td>5</td>\n",
       "      <td>1</td>\n",
       "      <td>La soledad es lo único constante en mi vida. C...</td>\n",
       "      <td>depressed</td>\n",
       "    </tr>\n",
       "  </tbody>\n",
       "</table>\n",
       "</div>"
      ],
      "text/plain": [
       "   id  USER_ID_ANON                                              tweet  \\\n",
       "0   1             1  Deberían eliminar a las malas personas y a los...   \n",
       "1   2             1  Ya deja de intentar contarle tus problemas a a...   \n",
       "2   3             1  La tristeza es lo más fácil de ocultar de todo...   \n",
       "3   4             1  De las peores cosas de la depresión es que no ...   \n",
       "4   5             1  La soledad es lo único constante en mi vida. C...   \n",
       "\n",
       "     emotion  \n",
       "0  depressed  \n",
       "1  depressed  \n",
       "2  depressed  \n",
       "3  depressed  \n",
       "4  depressed  "
      ]
     },
     "execution_count": 9,
     "metadata": {},
     "output_type": "execute_result"
    }
   ],
   "source": [
    "df_SpanishTweets_DepressionRelated = pd.read_csv(\"spanish_tweets_suggesting_signs_of_depression_v1.csv\")\n",
    "\n",
    "df_SpanishTweets_DepressionRelated.drop(columns=[\"CREATED_AT\"], inplace=True)\n",
    "\n",
    "df_SpanishTweets_DepressionRelated.rename(columns={\"TWEET_TEXT\": \"tweet\", \"TWEET_ID_ANON\": \"id\"}, inplace=True)\n",
    "\n",
    "df_SpanishTweets_DepressionRelated['emotion'] = \"depressed\"\n",
    "\n",
    "df_SpanishTweets_DepressionRelated.head()"
   ]
  },
  {
   "cell_type": "code",
   "execution_count": 10,
   "metadata": {},
   "outputs": [
    {
     "name": "stdout",
     "output_type": "stream",
     "text": [
      "<class 'pandas.core.frame.DataFrame'>\n",
      "RangeIndex: 1000 entries, 0 to 999\n",
      "Data columns (total 4 columns):\n",
      " #   Column        Non-Null Count  Dtype \n",
      "---  ------        --------------  ----- \n",
      " 0   id            1000 non-null   int64 \n",
      " 1   USER_ID_ANON  1000 non-null   int64 \n",
      " 2   tweet         1000 non-null   object\n",
      " 3   emotion       1000 non-null   object\n",
      "dtypes: int64(2), object(2)\n",
      "memory usage: 31.4+ KB\n"
     ]
    }
   ],
   "source": [
    "df_SpanishTweets_DepressionRelated.info()"
   ]
  },
  {
   "cell_type": "markdown",
   "metadata": {},
   "source": [
    "#### Neutral tweets"
   ]
  },
  {
   "cell_type": "code",
   "execution_count": 11,
   "metadata": {},
   "outputs": [
    {
     "data": {
      "text/html": [
       "<div>\n",
       "<style scoped>\n",
       "    .dataframe tbody tr th:only-of-type {\n",
       "        vertical-align: middle;\n",
       "    }\n",
       "\n",
       "    .dataframe tbody tr th {\n",
       "        vertical-align: top;\n",
       "    }\n",
       "\n",
       "    .dataframe thead th {\n",
       "        text-align: right;\n",
       "    }\n",
       "</style>\n",
       "<table border=\"1\" class=\"dataframe\">\n",
       "  <thead>\n",
       "    <tr style=\"text-align: right;\">\n",
       "      <th></th>\n",
       "      <th>id</th>\n",
       "      <th>tweet</th>\n",
       "      <th>emotion</th>\n",
       "    </tr>\n",
       "  </thead>\n",
       "  <tbody>\n",
       "    <tr>\n",
       "      <th>0</th>\n",
       "      <td>432597809246633984</td>\n",
       "      <td>RT TUSERUSER : Claro que uno se enamora y tamb...</td>\n",
       "      <td>neutral</td>\n",
       "    </tr>\n",
       "    <tr>\n",
       "      <th>1</th>\n",
       "      <td>441875458700083200</td>\n",
       "      <td>TUSERUSER yo MUERO 😍 ya hermosísimo desde pequ...</td>\n",
       "      <td>neutral</td>\n",
       "    </tr>\n",
       "    <tr>\n",
       "      <th>2</th>\n",
       "      <td>434182694113509378</td>\n",
       "      <td>RT TUSERUSER : Coño falta que corten la luz</td>\n",
       "      <td>neutral</td>\n",
       "    </tr>\n",
       "    <tr>\n",
       "      <th>3</th>\n",
       "      <td>432506327277895683</td>\n",
       "      <td>RT TUSERUSER : Internet , \" azúcar \" , \" mar \"...</td>\n",
       "      <td>neutral</td>\n",
       "    </tr>\n",
       "    <tr>\n",
       "      <th>4</th>\n",
       "      <td>479805220877107204</td>\n",
       "      <td>Cosculluela Dice : No Soy El Malo Del Reggaetó...</td>\n",
       "      <td>neutral</td>\n",
       "    </tr>\n",
       "  </tbody>\n",
       "</table>\n",
       "</div>"
      ],
      "text/plain": [
       "                   id                                              tweet  \\\n",
       "0  432597809246633984  RT TUSERUSER : Claro que uno se enamora y tamb...   \n",
       "1  441875458700083200  TUSERUSER yo MUERO 😍 ya hermosísimo desde pequ...   \n",
       "2  434182694113509378        RT TUSERUSER : Coño falta que corten la luz   \n",
       "3  432506327277895683  RT TUSERUSER : Internet , \" azúcar \" , \" mar \"...   \n",
       "4  479805220877107204  Cosculluela Dice : No Soy El Malo Del Reggaetó...   \n",
       "\n",
       "   emotion  \n",
       "0  neutral  \n",
       "1  neutral  \n",
       "2  neutral  \n",
       "3  neutral  \n",
       "4  neutral  "
      ]
     },
     "execution_count": 11,
     "metadata": {},
     "output_type": "execute_result"
    }
   ],
   "source": [
    "df_spanishSentiment = pd.read_csv(\"spanish_sentiment.tsv\", sep='\\t', header=0)\n",
    "\n",
    "df_spanishSentiment.rename(columns={\"text\": \"tweet\", \"label\": \"emotion\"}, inplace=True)\n",
    "\n",
    "df_spanishSentiment = df_spanishSentiment[df_spanishSentiment[\"emotion\"] == \"neutral\"]\n",
    "\n",
    "df_spanishSentiment.head()"
   ]
  },
  {
   "cell_type": "code",
   "execution_count": 12,
   "metadata": {},
   "outputs": [
    {
     "name": "stdout",
     "output_type": "stream",
     "text": [
      "<class 'pandas.core.frame.DataFrame'>\n",
      "Int64Index: 7042 entries, 0 to 7623\n",
      "Data columns (total 3 columns):\n",
      " #   Column   Non-Null Count  Dtype \n",
      "---  ------   --------------  ----- \n",
      " 0   id       7042 non-null   int64 \n",
      " 1   tweet    7042 non-null   object\n",
      " 2   emotion  7042 non-null   object\n",
      "dtypes: int64(1), object(2)\n",
      "memory usage: 220.1+ KB\n"
     ]
    }
   ],
   "source": [
    "df_spanishSentiment.info()"
   ]
  },
  {
   "cell_type": "markdown",
   "metadata": {},
   "source": [
    "#### Merge"
   ]
  },
  {
   "cell_type": "code",
   "execution_count": 3,
   "metadata": {},
   "outputs": [],
   "source": [
    "merged_spanishMerged_exists = exists(\"./df_spanishMerged.csv\")\n",
    "\n",
    "selected_emotions_spanish = ['sad', 'fear', 'angry', 'neutral', 'depressed']\n",
    "\n",
    "if not merged_spanishMerged_exists:      \n",
    "    df_spanishMerged = pd.DataFrame(pd.concat([df_SpanishTweets_COVIDRelated, df_SpanishTweets_DepressionRelated, df_spanishSentiment], names=['tweet', 'emotion'], ignore_index=True))\n",
    "    df_spanishMerged.drop(df_spanishMerged[df_spanishMerged['emotion'].isna()].index, inplace=True)\n",
    "    df_spanishMerged.drop(df_spanishMerged[df_spanishMerged.emotion == \"emotion\"].index, inplace=True)\n",
    "    \n",
    "    df_spanishMerged.drop(columns=['id', 'processed_tweet', 'USER_ID_ANON'], inplace=True)\n",
    "    df_spanishMerged = df_spanishMerged[df_spanishMerged['emotion'].isin(selected_emotions_spanish)]\n",
    "\n",
    "    df_spanishMerged['emotion'].replace({'sad': 'sadness', 'angry': 'anger'}, inplace=True)\n",
    "\n",
    "    df_spanishMerged.to_csv('df_spanishMerged.csv', sep='|', index=False)\n",
    "else :\n",
    "    df_spanishMerged = pd.read_csv('df_spanishMerged.csv', sep='|')"
   ]
  },
  {
   "cell_type": "code",
   "execution_count": 52,
   "metadata": {},
   "outputs": [
    {
     "data": {
      "text/html": [
       "<div>\n",
       "<style scoped>\n",
       "    .dataframe tbody tr th:only-of-type {\n",
       "        vertical-align: middle;\n",
       "    }\n",
       "\n",
       "    .dataframe tbody tr th {\n",
       "        vertical-align: top;\n",
       "    }\n",
       "\n",
       "    .dataframe thead th {\n",
       "        text-align: right;\n",
       "    }\n",
       "</style>\n",
       "<table border=\"1\" class=\"dataframe\">\n",
       "  <thead>\n",
       "    <tr style=\"text-align: right;\">\n",
       "      <th></th>\n",
       "      <th>tweet</th>\n",
       "      <th>emotion</th>\n",
       "    </tr>\n",
       "  </thead>\n",
       "  <tbody>\n",
       "    <tr>\n",
       "      <th>0</th>\n",
       "      <td>\"\\\"desastre tras desastre ... #catalunya #espa...</td>\n",
       "      <td>sadness</td>\n",
       "    </tr>\n",
       "    <tr>\n",
       "      <th>2</th>\n",
       "      <td>\"\\\"En 1año los sanitarios hemos pasado de ser ...</td>\n",
       "      <td>sadness</td>\n",
       "    </tr>\n",
       "    <tr>\n",
       "      <th>3</th>\n",
       "      <td>Hey Donald espero que no saltarse sus medicame...</td>\n",
       "      <td>sadness</td>\n",
       "    </tr>\n",
       "    <tr>\n",
       "      <th>4</th>\n",
       "      <td>los cuales circular dice que si tengo una emer...</td>\n",
       "      <td>fear</td>\n",
       "    </tr>\n",
       "    <tr>\n",
       "      <th>5</th>\n",
       "      <td>por mi marido hasta que el coronavirus ha mata...</td>\n",
       "      <td>fear</td>\n",
       "    </tr>\n",
       "  </tbody>\n",
       "</table>\n",
       "</div>"
      ],
      "text/plain": [
       "                                               tweet  emotion\n",
       "0  \"\\\"desastre tras desastre ... #catalunya #espa...  sadness\n",
       "2  \"\\\"En 1año los sanitarios hemos pasado de ser ...  sadness\n",
       "3  Hey Donald espero que no saltarse sus medicame...  sadness\n",
       "4  los cuales circular dice que si tengo una emer...     fear\n",
       "5  por mi marido hasta que el coronavirus ha mata...     fear"
      ]
     },
     "execution_count": 52,
     "metadata": {},
     "output_type": "execute_result"
    }
   ],
   "source": [
    "df_spanishMerged.head()"
   ]
  },
  {
   "cell_type": "code",
   "execution_count": 53,
   "metadata": {},
   "outputs": [
    {
     "name": "stdout",
     "output_type": "stream",
     "text": [
      "<class 'pandas.core.frame.DataFrame'>\n",
      "Int64Index: 12535 entries, 0 to 15471\n",
      "Data columns (total 2 columns):\n",
      " #   Column   Non-Null Count  Dtype \n",
      "---  ------   --------------  ----- \n",
      " 0   tweet    12535 non-null  object\n",
      " 1   emotion  12535 non-null  object\n",
      "dtypes: object(2)\n",
      "memory usage: 293.8+ KB\n"
     ]
    }
   ],
   "source": [
    "df_spanishMerged.info()"
   ]
  },
  {
   "cell_type": "code",
   "execution_count": 54,
   "metadata": {},
   "outputs": [
    {
     "data": {
      "text/plain": [
       "neutral      7042\n",
       "anger        2025\n",
       "sadness      1667\n",
       "depressed    1000\n",
       "fear          801\n",
       "Name: emotion, dtype: int64"
      ]
     },
     "execution_count": 54,
     "metadata": {},
     "output_type": "execute_result"
    }
   ],
   "source": [
    "df_spanishMerged.emotion.value_counts()"
   ]
  },
  {
   "cell_type": "markdown",
   "metadata": {},
   "source": [
    "-----\n",
    "#### English datasets"
   ]
  },
  {
   "cell_type": "markdown",
   "metadata": {},
   "source": [
    "#### GoEmotions\n",
    "\n",
    "Selected emotions:\n",
    "\n",
    "    -Remorse\n",
    "    -Dissapointment\n",
    "    -Nervousness\n",
    "    -Embarrassment\n",
    "    -Grief\n",
    "    -Fear\n",
    "    -Disgust"
   ]
  },
  {
   "cell_type": "code",
   "execution_count": 3,
   "metadata": {},
   "outputs": [
    {
     "data": {
      "text/html": [
       "<div>\n",
       "<style scoped>\n",
       "    .dataframe tbody tr th:only-of-type {\n",
       "        vertical-align: middle;\n",
       "    }\n",
       "\n",
       "    .dataframe tbody tr th {\n",
       "        vertical-align: top;\n",
       "    }\n",
       "\n",
       "    .dataframe thead th {\n",
       "        text-align: right;\n",
       "    }\n",
       "</style>\n",
       "<table border=\"1\" class=\"dataframe\">\n",
       "  <thead>\n",
       "    <tr style=\"text-align: right;\">\n",
       "      <th></th>\n",
       "      <th>tweet</th>\n",
       "      <th>emotion</th>\n",
       "    </tr>\n",
       "  </thead>\n",
       "  <tbody>\n",
       "    <tr>\n",
       "      <th>10</th>\n",
       "      <td>I wanted to downvote this, but it's not your f...</td>\n",
       "      <td>disappointment</td>\n",
       "    </tr>\n",
       "    <tr>\n",
       "      <th>12</th>\n",
       "      <td>That is odd.</td>\n",
       "      <td>disappointment</td>\n",
       "    </tr>\n",
       "    <tr>\n",
       "      <th>28</th>\n",
       "      <td>So happy for [NAME]. So sad he's not here. Ima...</td>\n",
       "      <td>disgust</td>\n",
       "    </tr>\n",
       "    <tr>\n",
       "      <th>31</th>\n",
       "      <td>Dark and funny, but not really nice guy. He ha...</td>\n",
       "      <td>disappointment</td>\n",
       "    </tr>\n",
       "    <tr>\n",
       "      <th>39</th>\n",
       "      <td>Na. Rediting my post. Sorry for the ignorance.</td>\n",
       "      <td>remorse</td>\n",
       "    </tr>\n",
       "  </tbody>\n",
       "</table>\n",
       "</div>"
      ],
      "text/plain": [
       "                                                tweet         emotion\n",
       "10  I wanted to downvote this, but it's not your f...  disappointment\n",
       "12                                       That is odd.  disappointment\n",
       "28  So happy for [NAME]. So sad he's not here. Ima...         disgust\n",
       "31  Dark and funny, but not really nice guy. He ha...  disappointment\n",
       "39     Na. Rediting my post. Sorry for the ignorance.         remorse"
      ]
     },
     "execution_count": 3,
     "metadata": {},
     "output_type": "execute_result"
    }
   ],
   "source": [
    "selected_emotions_english = ['disappointment', 'remorse', 'nervousness', 'embarrassment', 'grief', 'fear', 'disgust']\n",
    "\n",
    "df_merged_goEmotions = pd.read_csv('df_merged_goEmotions.csv', sep='|')\n",
    "\n",
    "df_merged_goEmotions = df_merged_goEmotions[df_merged_goEmotions.emotion.isin(selected_emotions_english)]\n",
    "\n",
    "df_merged_goEmotions.head()"
   ]
  },
  {
   "cell_type": "code",
   "execution_count": 4,
   "metadata": {},
   "outputs": [
    {
     "name": "stdout",
     "output_type": "stream",
     "text": [
      "<class 'pandas.core.frame.DataFrame'>\n",
      "Int64Index: 17511 entries, 10 to 207794\n",
      "Data columns (total 2 columns):\n",
      " #   Column   Non-Null Count  Dtype \n",
      "---  ------   --------------  ----- \n",
      " 0   tweet    17511 non-null  object\n",
      " 1   emotion  17511 non-null  object\n",
      "dtypes: object(2)\n",
      "memory usage: 410.4+ KB\n"
     ]
    }
   ],
   "source": [
    "df_merged_goEmotions.info()"
   ]
  },
  {
   "cell_type": "code",
   "execution_count": 5,
   "metadata": {},
   "outputs": [
    {
     "data": {
      "text/plain": [
       "disappointment    6769\n",
       "disgust           3420\n",
       "fear              2514\n",
       "embarrassment     1720\n",
       "remorse           1648\n",
       "nervousness        946\n",
       "grief              494\n",
       "Name: emotion, dtype: int64"
      ]
     },
     "execution_count": 5,
     "metadata": {},
     "output_type": "execute_result"
    }
   ],
   "source": [
    "df_merged_goEmotions.emotion.value_counts()"
   ]
  },
  {
   "cell_type": "markdown",
   "metadata": {},
   "source": [
    "#### Suicidal\n"
   ]
  },
  {
   "cell_type": "code",
   "execution_count": 6,
   "metadata": {},
   "outputs": [
    {
     "data": {
      "text/html": [
       "<div>\n",
       "<style scoped>\n",
       "    .dataframe tbody tr th:only-of-type {\n",
       "        vertical-align: middle;\n",
       "    }\n",
       "\n",
       "    .dataframe tbody tr th {\n",
       "        vertical-align: top;\n",
       "    }\n",
       "\n",
       "    .dataframe thead th {\n",
       "        text-align: right;\n",
       "    }\n",
       "</style>\n",
       "<table border=\"1\" class=\"dataframe\">\n",
       "  <thead>\n",
       "    <tr style=\"text-align: right;\">\n",
       "      <th></th>\n",
       "      <th>text</th>\n",
       "      <th>cls</th>\n",
       "    </tr>\n",
       "  </thead>\n",
       "  <tbody>\n",
       "    <tr>\n",
       "      <th>6</th>\n",
       "      <td>For number one , It doesn't matter how you kil...</td>\n",
       "      <td>Risk</td>\n",
       "    </tr>\n",
       "    <tr>\n",
       "      <th>8</th>\n",
       "      <td>I feel so tired, so stressed, so empty. I don'...</td>\n",
       "      <td>Risk</td>\n",
       "    </tr>\n",
       "    <tr>\n",
       "      <th>15</th>\n",
       "      <td>Hello, do I bother you? I'm crying, nobody tal...</td>\n",
       "      <td>Risk</td>\n",
       "    </tr>\n",
       "    <tr>\n",
       "      <th>16</th>\n",
       "      <td>I feel like I'm nothing, just a burden. \"</td>\n",
       "      <td>Risk</td>\n",
       "    </tr>\n",
       "    <tr>\n",
       "      <th>31</th>\n",
       "      <td>They\"ll probably be very disappointed If the ...</td>\n",
       "      <td>Risk</td>\n",
       "    </tr>\n",
       "  </tbody>\n",
       "</table>\n",
       "</div>"
      ],
      "text/plain": [
       "                                                 text    cls\n",
       "6   For number one , It doesn't matter how you kil...   Risk\n",
       "8   I feel so tired, so stressed, so empty. I don'...   Risk\n",
       "15  Hello, do I bother you? I'm crying, nobody tal...   Risk\n",
       "16          I feel like I'm nothing, just a burden. \"   Risk\n",
       "31   They\"ll probably be very disappointed If the ...   Risk"
      ]
     },
     "execution_count": 6,
     "metadata": {},
     "output_type": "execute_result"
    }
   ],
   "source": [
    "df_suicidal_tweets = pd.read_csv('suicidal_tweets_reddit_corpus_all copy.csv', sep='|')\n",
    "\n",
    "df_suicidal_tweets = df_suicidal_tweets[df_suicidal_tweets.cls == ' Risk']\n",
    "\n",
    "df_suicidal_tweets.head()"
   ]
  },
  {
   "cell_type": "code",
   "execution_count": 7,
   "metadata": {},
   "outputs": [
    {
     "name": "stdout",
     "output_type": "stream",
     "text": [
      "<class 'pandas.core.frame.DataFrame'>\n",
      "Int64Index: 183 entries, 6 to 300\n",
      "Data columns (total 2 columns):\n",
      " #   Column  Non-Null Count  Dtype \n",
      "---  ------  --------------  ----- \n",
      " 0   text    183 non-null    object\n",
      " 1   cls     183 non-null    object\n",
      "dtypes: object(2)\n",
      "memory usage: 4.3+ KB\n"
     ]
    }
   ],
   "source": [
    "df_suicidal_tweets.info()"
   ]
  },
  {
   "cell_type": "code",
   "execution_count": 8,
   "metadata": {},
   "outputs": [
    {
     "data": {
      "text/html": [
       "<div>\n",
       "<style scoped>\n",
       "    .dataframe tbody tr th:only-of-type {\n",
       "        vertical-align: middle;\n",
       "    }\n",
       "\n",
       "    .dataframe tbody tr th {\n",
       "        vertical-align: top;\n",
       "    }\n",
       "\n",
       "    .dataframe thead th {\n",
       "        text-align: right;\n",
       "    }\n",
       "</style>\n",
       "<table border=\"1\" class=\"dataframe\">\n",
       "  <thead>\n",
       "    <tr style=\"text-align: right;\">\n",
       "      <th></th>\n",
       "      <th>tweet</th>\n",
       "      <th>emotion</th>\n",
       "    </tr>\n",
       "  </thead>\n",
       "  <tbody>\n",
       "    <tr>\n",
       "      <th>6</th>\n",
       "      <td>For number one , It doesn't matter how you kil...</td>\n",
       "      <td>suicidal</td>\n",
       "    </tr>\n",
       "    <tr>\n",
       "      <th>8</th>\n",
       "      <td>I feel so tired, so stressed, so empty. I don'...</td>\n",
       "      <td>suicidal</td>\n",
       "    </tr>\n",
       "    <tr>\n",
       "      <th>15</th>\n",
       "      <td>Hello, do I bother you? I'm crying, nobody tal...</td>\n",
       "      <td>suicidal</td>\n",
       "    </tr>\n",
       "    <tr>\n",
       "      <th>16</th>\n",
       "      <td>I feel like I'm nothing, just a burden. \"</td>\n",
       "      <td>suicidal</td>\n",
       "    </tr>\n",
       "    <tr>\n",
       "      <th>31</th>\n",
       "      <td>They\"ll probably be very disappointed If the ...</td>\n",
       "      <td>suicidal</td>\n",
       "    </tr>\n",
       "  </tbody>\n",
       "</table>\n",
       "</div>"
      ],
      "text/plain": [
       "                                                tweet   emotion\n",
       "6   For number one , It doesn't matter how you kil...  suicidal\n",
       "8   I feel so tired, so stressed, so empty. I don'...  suicidal\n",
       "15  Hello, do I bother you? I'm crying, nobody tal...  suicidal\n",
       "16          I feel like I'm nothing, just a burden. \"  suicidal\n",
       "31   They\"ll probably be very disappointed If the ...  suicidal"
      ]
     },
     "execution_count": 8,
     "metadata": {},
     "output_type": "execute_result"
    }
   ],
   "source": [
    "df_suicidal_tweets['emotion'] = 'suicidal'\n",
    "\n",
    "df_suicidal_tweets.drop(columns=['cls'], inplace=True)\n",
    "\n",
    "df_suicidal_tweets.rename(columns={\"text\": \"tweet\"}, inplace=True)\n",
    "\n",
    "df_suicidal_tweets.to_csv('suicidal_tweets_selected.csv', sep='|', index=False)\n",
    "\n",
    "df_suicidal_tweets.head()"
   ]
  },
  {
   "cell_type": "code",
   "execution_count": 9,
   "metadata": {},
   "outputs": [
    {
     "name": "stdout",
     "output_type": "stream",
     "text": [
      "<class 'pandas.core.frame.DataFrame'>\n",
      "Int64Index: 183 entries, 6 to 300\n",
      "Data columns (total 2 columns):\n",
      " #   Column   Non-Null Count  Dtype \n",
      "---  ------   --------------  ----- \n",
      " 0   tweet    183 non-null    object\n",
      " 1   emotion  183 non-null    object\n",
      "dtypes: object(2)\n",
      "memory usage: 4.3+ KB\n"
     ]
    }
   ],
   "source": [
    "df_suicidal_tweets.info()"
   ]
  },
  {
   "cell_type": "code",
   "execution_count": 10,
   "metadata": {},
   "outputs": [
    {
     "data": {
      "text/html": [
       "<div>\n",
       "<style scoped>\n",
       "    .dataframe tbody tr th:only-of-type {\n",
       "        vertical-align: middle;\n",
       "    }\n",
       "\n",
       "    .dataframe tbody tr th {\n",
       "        vertical-align: top;\n",
       "    }\n",
       "\n",
       "    .dataframe thead th {\n",
       "        text-align: right;\n",
       "    }\n",
       "</style>\n",
       "<table border=\"1\" class=\"dataframe\">\n",
       "  <thead>\n",
       "    <tr style=\"text-align: right;\">\n",
       "      <th></th>\n",
       "      <th>tweet</th>\n",
       "      <th>emotion</th>\n",
       "    </tr>\n",
       "  </thead>\n",
       "  <tbody>\n",
       "    <tr>\n",
       "      <th>0</th>\n",
       "      <td>I wanted to downvote this, but it's not your f...</td>\n",
       "      <td>disappointment</td>\n",
       "    </tr>\n",
       "    <tr>\n",
       "      <th>1</th>\n",
       "      <td>That is odd.</td>\n",
       "      <td>disappointment</td>\n",
       "    </tr>\n",
       "    <tr>\n",
       "      <th>2</th>\n",
       "      <td>So happy for [NAME]. So sad he's not here. Ima...</td>\n",
       "      <td>disgust</td>\n",
       "    </tr>\n",
       "    <tr>\n",
       "      <th>3</th>\n",
       "      <td>Dark and funny, but not really nice guy. He ha...</td>\n",
       "      <td>disappointment</td>\n",
       "    </tr>\n",
       "    <tr>\n",
       "      <th>4</th>\n",
       "      <td>Na. Rediting my post. Sorry for the ignorance.</td>\n",
       "      <td>remorse</td>\n",
       "    </tr>\n",
       "  </tbody>\n",
       "</table>\n",
       "</div>"
      ],
      "text/plain": [
       "                                               tweet         emotion\n",
       "0  I wanted to downvote this, but it's not your f...  disappointment\n",
       "1                                       That is odd.  disappointment\n",
       "2  So happy for [NAME]. So sad he's not here. Ima...         disgust\n",
       "3  Dark and funny, but not really nice guy. He ha...  disappointment\n",
       "4     Na. Rediting my post. Sorry for the ignorance.         remorse"
      ]
     },
     "execution_count": 10,
     "metadata": {},
     "output_type": "execute_result"
    }
   ],
   "source": [
    "df_merged_goEmotions_suicidal = pd.DataFrame(pd.concat([df_merged_goEmotions, df_suicidal_tweets], names=['tweet', 'emotion'], ignore_index=True))\n",
    "\n",
    "df_merged_goEmotions_suicidal.head()"
   ]
  },
  {
   "cell_type": "code",
   "execution_count": 13,
   "metadata": {},
   "outputs": [],
   "source": [
    "df_merged_goEmotions_suicidal.to_csv('final_merged_goEmotions.csv', sep='|', index=False)"
   ]
  },
  {
   "cell_type": "code",
   "execution_count": 11,
   "metadata": {},
   "outputs": [
    {
     "name": "stdout",
     "output_type": "stream",
     "text": [
      "<class 'pandas.core.frame.DataFrame'>\n",
      "RangeIndex: 17694 entries, 0 to 17693\n",
      "Data columns (total 2 columns):\n",
      " #   Column   Non-Null Count  Dtype \n",
      "---  ------   --------------  ----- \n",
      " 0   tweet    17694 non-null  object\n",
      " 1   emotion  17694 non-null  object\n",
      "dtypes: object(2)\n",
      "memory usage: 276.6+ KB\n"
     ]
    }
   ],
   "source": [
    "df_merged_goEmotions_suicidal.info()"
   ]
  },
  {
   "cell_type": "code",
   "execution_count": 12,
   "metadata": {},
   "outputs": [
    {
     "data": {
      "text/plain": [
       "disappointment    6769\n",
       "disgust           3420\n",
       "fear              2514\n",
       "embarrassment     1720\n",
       "remorse           1648\n",
       "nervousness        946\n",
       "grief              494\n",
       "suicidal           183\n",
       "Name: emotion, dtype: int64"
      ]
     },
     "execution_count": 12,
     "metadata": {},
     "output_type": "execute_result"
    }
   ],
   "source": [
    "df_merged_goEmotions_suicidal.emotion.value_counts()"
   ]
  },
  {
   "cell_type": "markdown",
   "metadata": {},
   "source": [
    "### Depressed, Hopeless, Lonely and Suicide tweets\n",
    "\n",
    "    -Depressed\n",
    "    -Hopeless\n",
    "    -Lonely\n",
    "    -Suicide"
   ]
  },
  {
   "cell_type": "code",
   "execution_count": 96,
   "metadata": {},
   "outputs": [],
   "source": [
    "df_depressed_drive = pd.read_csv('depressed-drive-tweets.csv', sep=',')\n",
    "\n",
    "df_hopeless_drive = pd.read_csv('hopeless-drive-tweets1.csv', sep=',')\n",
    "\n",
    "df_lonely_drive = pd.read_csv('lonely-drive-tweets1.csv', sep=',')\n",
    "\n",
    "df_suicide_drive = pd.read_csv('suicide-drive-tweets1.csv', sep=',')"
   ]
  },
  {
   "cell_type": "code",
   "execution_count": 97,
   "metadata": {},
   "outputs": [],
   "source": [
    "df_depressed_drive = df_depressed_drive[['tweet']]\n",
    "df_depressed_drive['emotion'] = 'depressed'\n",
    "\n",
    "df_hopeless_drive = df_hopeless_drive[['tweet']]\n",
    "df_hopeless_drive['emotion'] = 'hopeless'\n",
    "\n",
    "df_lonely_drive = df_lonely_drive[['tweet']]\n",
    "df_lonely_drive['emotion'] = 'lonely'\n",
    "\n",
    "df_suicide_drive = df_suicide_drive[['tweet']]\n",
    "df_suicide_drive['emotion'] = 'suicidal'"
   ]
  },
  {
   "cell_type": "markdown",
   "metadata": {},
   "source": [
    "#### Depressed"
   ]
  },
  {
   "cell_type": "code",
   "execution_count": 98,
   "metadata": {},
   "outputs": [
    {
     "data": {
      "text/html": [
       "<div>\n",
       "<style scoped>\n",
       "    .dataframe tbody tr th:only-of-type {\n",
       "        vertical-align: middle;\n",
       "    }\n",
       "\n",
       "    .dataframe tbody tr th {\n",
       "        vertical-align: top;\n",
       "    }\n",
       "\n",
       "    .dataframe thead th {\n",
       "        text-align: right;\n",
       "    }\n",
       "</style>\n",
       "<table border=\"1\" class=\"dataframe\">\n",
       "  <thead>\n",
       "    <tr style=\"text-align: right;\">\n",
       "      <th></th>\n",
       "      <th>tweet</th>\n",
       "      <th>emotion</th>\n",
       "    </tr>\n",
       "  </thead>\n",
       "  <tbody>\n",
       "    <tr>\n",
       "      <th>0</th>\n",
       "      <td>Listen!! IM SORRY!!   With her elder spirits g...</td>\n",
       "      <td>depressed</td>\n",
       "    </tr>\n",
       "    <tr>\n",
       "      <th>1</th>\n",
       "      <td>Im so pissed and depressed at the same time</td>\n",
       "      <td>depressed</td>\n",
       "    </tr>\n",
       "    <tr>\n",
       "      <th>2</th>\n",
       "      <td>I’m just a hot mess that’s stressed, depressed...</td>\n",
       "      <td>depressed</td>\n",
       "    </tr>\n",
       "    <tr>\n",
       "      <th>3</th>\n",
       "      <td>Chen's probably depressed too since she's no l...</td>\n",
       "      <td>depressed</td>\n",
       "    </tr>\n",
       "    <tr>\n",
       "      <th>4</th>\n",
       "      <td>Do you like it when I shake it for ya, daddy? ...</td>\n",
       "      <td>depressed</td>\n",
       "    </tr>\n",
       "  </tbody>\n",
       "</table>\n",
       "</div>"
      ],
      "text/plain": [
       "                                               tweet    emotion\n",
       "0  Listen!! IM SORRY!!   With her elder spirits g...  depressed\n",
       "1        Im so pissed and depressed at the same time  depressed\n",
       "2  I’m just a hot mess that’s stressed, depressed...  depressed\n",
       "3  Chen's probably depressed too since she's no l...  depressed\n",
       "4  Do you like it when I shake it for ya, daddy? ...  depressed"
      ]
     },
     "execution_count": 98,
     "metadata": {},
     "output_type": "execute_result"
    }
   ],
   "source": [
    "df_depressed_drive.head()"
   ]
  },
  {
   "cell_type": "code",
   "execution_count": 99,
   "metadata": {},
   "outputs": [
    {
     "name": "stdout",
     "output_type": "stream",
     "text": [
      "<class 'pandas.core.frame.DataFrame'>\n",
      "RangeIndex: 20932 entries, 0 to 20931\n",
      "Data columns (total 2 columns):\n",
      " #   Column   Non-Null Count  Dtype \n",
      "---  ------   --------------  ----- \n",
      " 0   tweet    20932 non-null  object\n",
      " 1   emotion  20932 non-null  object\n",
      "dtypes: object(2)\n",
      "memory usage: 327.2+ KB\n"
     ]
    }
   ],
   "source": [
    "df_depressed_drive.info()"
   ]
  },
  {
   "cell_type": "code",
   "execution_count": 100,
   "metadata": {},
   "outputs": [],
   "source": [
    "depression_related_words = ['overwhelmed', 'exhausted','anxiety', 'anxious', 'tired', 'low', 'depression', 'depressed', 'discouraged', 'desperate', 'demotivated', 'insomnia', 'cry', 'nervous', 'worried', 'lonely', 'sad', 'empty']\n",
    "\n",
    "df_depressed_drive = df_depressed_drive[df_depressed_drive['tweet'].apply(lambda x: (len(str(x)) >=100) and (len(str(x)) <= 280))]\n",
    "df_depressed_drive = df_depressed_drive[df_depressed_drive['tweet'].apply(lambda x: True if any(i in x for i in depression_related_words) else False)]\n",
    "\n",
    "df_depressed_drive.to_csv('depressed_drive_clean.csv', sep='|', index=False)\n"
   ]
  },
  {
   "cell_type": "code",
   "execution_count": 102,
   "metadata": {},
   "outputs": [
    {
     "name": "stdout",
     "output_type": "stream",
     "text": [
      "<class 'pandas.core.frame.DataFrame'>\n",
      "Int64Index: 4993 entries, 2 to 20927\n",
      "Data columns (total 2 columns):\n",
      " #   Column   Non-Null Count  Dtype \n",
      "---  ------   --------------  ----- \n",
      " 0   tweet    4993 non-null   object\n",
      " 1   emotion  4993 non-null   object\n",
      "dtypes: object(2)\n",
      "memory usage: 117.0+ KB\n"
     ]
    }
   ],
   "source": [
    "df_depressed_drive.info()"
   ]
  },
  {
   "cell_type": "markdown",
   "metadata": {},
   "source": [
    "#### Hopeless"
   ]
  },
  {
   "cell_type": "code",
   "execution_count": 104,
   "metadata": {},
   "outputs": [
    {
     "data": {
      "text/html": [
       "<div>\n",
       "<style scoped>\n",
       "    .dataframe tbody tr th:only-of-type {\n",
       "        vertical-align: middle;\n",
       "    }\n",
       "\n",
       "    .dataframe tbody tr th {\n",
       "        vertical-align: top;\n",
       "    }\n",
       "\n",
       "    .dataframe thead th {\n",
       "        text-align: right;\n",
       "    }\n",
       "</style>\n",
       "<table border=\"1\" class=\"dataframe\">\n",
       "  <thead>\n",
       "    <tr style=\"text-align: right;\">\n",
       "      <th></th>\n",
       "      <th>tweet</th>\n",
       "      <th>emotion</th>\n",
       "    </tr>\n",
       "  </thead>\n",
       "  <tbody>\n",
       "    <tr>\n",
       "      <th>0</th>\n",
       "      <td>Hopeless, crazed, and dispossessed, I walked o...</td>\n",
       "      <td>hopeless</td>\n",
       "    </tr>\n",
       "    <tr>\n",
       "      <th>1</th>\n",
       "      <td>KAP haberini beklerken serSERİn olmuştuk</td>\n",
       "      <td>hopeless</td>\n",
       "    </tr>\n",
       "    <tr>\n",
       "      <th>2</th>\n",
       "      <td>17-july-2019. 🦉💛.</td>\n",
       "      <td>hopeless</td>\n",
       "    </tr>\n",
       "    <tr>\n",
       "      <th>3</th>\n",
       "      <td>เป็นไรสาวน้อย</td>\n",
       "      <td>hopeless</td>\n",
       "    </tr>\n",
       "    <tr>\n",
       "      <th>4</th>\n",
       "      <td>انا قاعده اعيش اسعد ايام حياتي💛.</td>\n",
       "      <td>hopeless</td>\n",
       "    </tr>\n",
       "  </tbody>\n",
       "</table>\n",
       "</div>"
      ],
      "text/plain": [
       "                                               tweet   emotion\n",
       "0  Hopeless, crazed, and dispossessed, I walked o...  hopeless\n",
       "1           KAP haberini beklerken serSERİn olmuştuk  hopeless\n",
       "2                                  17-july-2019. 🦉💛.  hopeless\n",
       "3                                      เป็นไรสาวน้อย  hopeless\n",
       "4                   انا قاعده اعيش اسعد ايام حياتي💛.  hopeless"
      ]
     },
     "execution_count": 104,
     "metadata": {},
     "output_type": "execute_result"
    }
   ],
   "source": [
    "df_hopeless_drive.head()"
   ]
  },
  {
   "cell_type": "code",
   "execution_count": 105,
   "metadata": {},
   "outputs": [
    {
     "name": "stdout",
     "output_type": "stream",
     "text": [
      "<class 'pandas.core.frame.DataFrame'>\n",
      "RangeIndex: 9021 entries, 0 to 9020\n",
      "Data columns (total 2 columns):\n",
      " #   Column   Non-Null Count  Dtype \n",
      "---  ------   --------------  ----- \n",
      " 0   tweet    9021 non-null   object\n",
      " 1   emotion  9021 non-null   object\n",
      "dtypes: object(2)\n",
      "memory usage: 141.1+ KB\n"
     ]
    }
   ],
   "source": [
    "df_hopeless_drive.info()"
   ]
  },
  {
   "cell_type": "code",
   "execution_count": 106,
   "metadata": {},
   "outputs": [
    {
     "name": "stdout",
     "output_type": "stream",
     "text": [
      "<class 'pandas.core.frame.DataFrame'>\n",
      "RangeIndex: 9021 entries, 0 to 9020\n",
      "Data columns (total 2 columns):\n",
      " #   Column   Non-Null Count  Dtype \n",
      "---  ------   --------------  ----- \n",
      " 0   tweet    9021 non-null   object\n",
      " 1   emotion  9021 non-null   object\n",
      "dtypes: object(2)\n",
      "memory usage: 141.1+ KB\n"
     ]
    }
   ],
   "source": [
    "df_hopeless_drive.info()"
   ]
  },
  {
   "cell_type": "code",
   "execution_count": 107,
   "metadata": {},
   "outputs": [],
   "source": [
    "lonelines_terms = ['alone', 'feeling', 'lonely', 'depression', 'pain', 'sadness', 'isolation', 'fear', 'killing', 'feelings', 'anxiety', 'happiness', 'cure',\n",
    "'solitude', 'hurts', 'emptiness', 'crippling', 'anger', 'silence', 'fill', 'suffering', 'relationships', 'empty', 'darkness', 'boredom']\n",
    "\n",
    "lonely_terms = ['feel', 'sad', 'feeling', 'alone', 'friends', 'sometimes', 'single', 'felt', 'bored', 'feels', 'nights', 'scared', 'depressed', 'af', 'cold',\n",
    "'island', 'christmas', 'empty', 'hearts', 'loneliness', 'miserable', 'surrounded', 'horny', 'asf', 'desperate']\n",
    "\n",
    "solitude = ['alone', 'enjoy', 'peace', 'silence', 'loneliness', 'fortress', 'quiet', 'hundred', 'lonely', 'enjoying', 'comfort', 'prefer', 'nature',\n",
    "'isolation', 'comfortable', 'bliss', 'moments', 'sea', 'presence', 'peaceful', 'seek', 'embrace', 'darkness', 'gabriel', 'inner']"
   ]
  },
  {
   "cell_type": "code",
   "execution_count": 108,
   "metadata": {},
   "outputs": [],
   "source": [
    "df_hopeless_drive = df_hopeless_drive[df_hopeless_drive['tweet'].apply(lambda x: (len(str(x)) >=50) and (len(str(x)) <= 280))]\n",
    "df_hopeless_drive = df_hopeless_drive[df_hopeless_drive['tweet'].apply(lambda x: True if (any(i in x for i in lonelines_terms) or any(i in x for i in lonely_terms)  or any(i in x for i in solitude)) else False)]\n",
    "\n",
    "df_hopeless_drive.to_csv('hopeless_drive_clean.csv', sep='|', index=False)"
   ]
  },
  {
   "cell_type": "code",
   "execution_count": 110,
   "metadata": {},
   "outputs": [
    {
     "name": "stdout",
     "output_type": "stream",
     "text": [
      "<class 'pandas.core.frame.DataFrame'>\n",
      "Int64Index: 1191 entries, 0 to 9019\n",
      "Data columns (total 2 columns):\n",
      " #   Column   Non-Null Count  Dtype \n",
      "---  ------   --------------  ----- \n",
      " 0   tweet    1191 non-null   object\n",
      " 1   emotion  1191 non-null   object\n",
      "dtypes: object(2)\n",
      "memory usage: 27.9+ KB\n"
     ]
    }
   ],
   "source": [
    "df_hopeless_drive.info()"
   ]
  },
  {
   "cell_type": "markdown",
   "metadata": {},
   "source": [
    "#### Lonely"
   ]
  },
  {
   "cell_type": "code",
   "execution_count": 111,
   "metadata": {},
   "outputs": [
    {
     "data": {
      "text/html": [
       "<div>\n",
       "<style scoped>\n",
       "    .dataframe tbody tr th:only-of-type {\n",
       "        vertical-align: middle;\n",
       "    }\n",
       "\n",
       "    .dataframe tbody tr th {\n",
       "        vertical-align: top;\n",
       "    }\n",
       "\n",
       "    .dataframe thead th {\n",
       "        text-align: right;\n",
       "    }\n",
       "</style>\n",
       "<table border=\"1\" class=\"dataframe\">\n",
       "  <thead>\n",
       "    <tr style=\"text-align: right;\">\n",
       "      <th></th>\n",
       "      <th>tweet</th>\n",
       "      <th>emotion</th>\n",
       "    </tr>\n",
       "  </thead>\n",
       "  <tbody>\n",
       "    <tr>\n",
       "      <th>0</th>\n",
       "      <td>i dont know why but he looks so lonely in this...</td>\n",
       "      <td>lonely</td>\n",
       "    </tr>\n",
       "    <tr>\n",
       "      <th>1</th>\n",
       "      <td>Я после того как увидела их начала отращивать ...</td>\n",
       "      <td>lonely</td>\n",
       "    </tr>\n",
       "    <tr>\n",
       "      <th>2</th>\n",
       "      <td>Even follow you on all social networks</td>\n",
       "      <td>lonely</td>\n",
       "    </tr>\n",
       "    <tr>\n",
       "      <th>3</th>\n",
       "      <td>#Nowplaying: Garmonsway, Gibbon and Harrington...</td>\n",
       "      <td>lonely</td>\n",
       "    </tr>\n",
       "    <tr>\n",
       "      <th>4</th>\n",
       "      <td>Laying in this hammock every Sunday alone is g...</td>\n",
       "      <td>lonely</td>\n",
       "    </tr>\n",
       "  </tbody>\n",
       "</table>\n",
       "</div>"
      ],
      "text/plain": [
       "                                               tweet emotion\n",
       "0  i dont know why but he looks so lonely in this...  lonely\n",
       "1  Я после того как увидела их начала отращивать ...  lonely\n",
       "2             Even follow you on all social networks  lonely\n",
       "3  #Nowplaying: Garmonsway, Gibbon and Harrington...  lonely\n",
       "4  Laying in this hammock every Sunday alone is g...  lonely"
      ]
     },
     "execution_count": 111,
     "metadata": {},
     "output_type": "execute_result"
    }
   ],
   "source": [
    "df_lonely_drive.head()"
   ]
  },
  {
   "cell_type": "code",
   "execution_count": 112,
   "metadata": {},
   "outputs": [
    {
     "name": "stdout",
     "output_type": "stream",
     "text": [
      "<class 'pandas.core.frame.DataFrame'>\n",
      "RangeIndex: 53772 entries, 0 to 53771\n",
      "Data columns (total 2 columns):\n",
      " #   Column   Non-Null Count  Dtype \n",
      "---  ------   --------------  ----- \n",
      " 0   tweet    53772 non-null  object\n",
      " 1   emotion  53772 non-null  object\n",
      "dtypes: object(2)\n",
      "memory usage: 840.3+ KB\n"
     ]
    }
   ],
   "source": [
    "df_lonely_drive.info()"
   ]
  },
  {
   "cell_type": "code",
   "execution_count": 113,
   "metadata": {},
   "outputs": [],
   "source": [
    "df_lonely_drive = df_lonely_drive[df_lonely_drive['tweet'].apply(lambda x: (len(str(x)) >=50) and (len(str(x)) <= 280))]\n",
    "df_lonely_drive = df_lonely_drive[df_lonely_drive['tweet'].apply(lambda x: True if (any(i in x for i in lonelines_terms) and any(i in x for i in lonely_terms)  and any(i in x for i in solitude)) else False)]\n",
    "\n",
    "df_lonely_drive.to_csv('lonely_drive_clean.csv', sep='|', index=False)"
   ]
  },
  {
   "cell_type": "code",
   "execution_count": 114,
   "metadata": {},
   "outputs": [
    {
     "name": "stdout",
     "output_type": "stream",
     "text": [
      "<class 'pandas.core.frame.DataFrame'>\n",
      "Int64Index: 5102 entries, 4 to 53744\n",
      "Data columns (total 2 columns):\n",
      " #   Column   Non-Null Count  Dtype \n",
      "---  ------   --------------  ----- \n",
      " 0   tweet    5102 non-null   object\n",
      " 1   emotion  5102 non-null   object\n",
      "dtypes: object(2)\n",
      "memory usage: 119.6+ KB\n"
     ]
    }
   ],
   "source": [
    "df_lonely_drive.info()"
   ]
  },
  {
   "cell_type": "markdown",
   "metadata": {},
   "source": [
    "#### Suicidal"
   ]
  },
  {
   "cell_type": "code",
   "execution_count": 115,
   "metadata": {},
   "outputs": [
    {
     "data": {
      "text/html": [
       "<div>\n",
       "<style scoped>\n",
       "    .dataframe tbody tr th:only-of-type {\n",
       "        vertical-align: middle;\n",
       "    }\n",
       "\n",
       "    .dataframe tbody tr th {\n",
       "        vertical-align: top;\n",
       "    }\n",
       "\n",
       "    .dataframe thead th {\n",
       "        text-align: right;\n",
       "    }\n",
       "</style>\n",
       "<table border=\"1\" class=\"dataframe\">\n",
       "  <thead>\n",
       "    <tr style=\"text-align: right;\">\n",
       "      <th></th>\n",
       "      <th>tweet</th>\n",
       "      <th>emotion</th>\n",
       "    </tr>\n",
       "  </thead>\n",
       "  <tbody>\n",
       "    <tr>\n",
       "      <th>0</th>\n",
       "      <td>Suicide Thoughts ....</td>\n",
       "      <td>suicidal</td>\n",
       "    </tr>\n",
       "    <tr>\n",
       "      <th>1</th>\n",
       "      <td>If I wake up as a white person in my next life...</td>\n",
       "      <td>suicidal</td>\n",
       "    </tr>\n",
       "    <tr>\n",
       "      <th>2</th>\n",
       "      <td>I fixed my bio (Cant add a banner because Twit...</td>\n",
       "      <td>suicidal</td>\n",
       "    </tr>\n",
       "    <tr>\n",
       "      <th>3</th>\n",
       "      <td>Weaponizign Suicide disturbs me a lot Cardi B ...</td>\n",
       "      <td>suicidal</td>\n",
       "    </tr>\n",
       "    <tr>\n",
       "      <th>4</th>\n",
       "      <td>#sam harcelé par ses camarades de classe se #s...</td>\n",
       "      <td>suicidal</td>\n",
       "    </tr>\n",
       "  </tbody>\n",
       "</table>\n",
       "</div>"
      ],
      "text/plain": [
       "                                               tweet   emotion\n",
       "0                              Suicide Thoughts ....  suicidal\n",
       "1  If I wake up as a white person in my next life...  suicidal\n",
       "2  I fixed my bio (Cant add a banner because Twit...  suicidal\n",
       "3  Weaponizign Suicide disturbs me a lot Cardi B ...  suicidal\n",
       "4  #sam harcelé par ses camarades de classe se #s...  suicidal"
      ]
     },
     "execution_count": 115,
     "metadata": {},
     "output_type": "execute_result"
    }
   ],
   "source": [
    "df_suicide_drive.head()"
   ]
  },
  {
   "cell_type": "code",
   "execution_count": 116,
   "metadata": {},
   "outputs": [
    {
     "name": "stdout",
     "output_type": "stream",
     "text": [
      "<class 'pandas.core.frame.DataFrame'>\n",
      "RangeIndex: 25128 entries, 0 to 25127\n",
      "Data columns (total 2 columns):\n",
      " #   Column   Non-Null Count  Dtype \n",
      "---  ------   --------------  ----- \n",
      " 0   tweet    25128 non-null  object\n",
      " 1   emotion  25128 non-null  object\n",
      "dtypes: object(2)\n",
      "memory usage: 392.8+ KB\n"
     ]
    }
   ],
   "source": [
    "df_suicide_drive.info()"
   ]
  },
  {
   "cell_type": "code",
   "execution_count": 117,
   "metadata": {},
   "outputs": [],
   "source": [
    "suicidal_terms_related = ['suicide', 'suicidal', 'suic', 'self-harm', 'self-injury', 'self harm', 'self injury', 'hang myself', 'hung myself', 'kill myself', 'kills myself', 'take my life',\n",
    " 'take my life', 'takes my life', 'want to die', 'wanted to die', 'wants to die', 'want death', 'wants death', 'wanted death', 'to be dead']"
   ]
  },
  {
   "cell_type": "code",
   "execution_count": 118,
   "metadata": {},
   "outputs": [],
   "source": [
    "df_suicide_drive = df_suicide_drive[df_suicide_drive['tweet'].apply(lambda x: (len(str(x)) >=100) and (len(str(x)) <= 280))]\n",
    "df_suicide_drive = df_suicide_drive[df_suicide_drive['tweet'].apply(lambda x: True if any(i in x for i in suicidal_terms_related) else False)]\n",
    "\n",
    "df_suicide_drive.to_csv('suicide_drive_clean.csv', sep='|', index=False)"
   ]
  },
  {
   "cell_type": "code",
   "execution_count": 119,
   "metadata": {},
   "outputs": [
    {
     "data": {
      "text/html": [
       "<div>\n",
       "<style scoped>\n",
       "    .dataframe tbody tr th:only-of-type {\n",
       "        vertical-align: middle;\n",
       "    }\n",
       "\n",
       "    .dataframe tbody tr th {\n",
       "        vertical-align: top;\n",
       "    }\n",
       "\n",
       "    .dataframe thead th {\n",
       "        text-align: right;\n",
       "    }\n",
       "</style>\n",
       "<table border=\"1\" class=\"dataframe\">\n",
       "  <thead>\n",
       "    <tr style=\"text-align: right;\">\n",
       "      <th></th>\n",
       "      <th>tweet</th>\n",
       "      <th>emotion</th>\n",
       "    </tr>\n",
       "  </thead>\n",
       "  <tbody>\n",
       "    <tr>\n",
       "      <th>1</th>\n",
       "      <td>If I wake up as a white person in my next life...</td>\n",
       "      <td>suicidal</td>\n",
       "    </tr>\n",
       "    <tr>\n",
       "      <th>2</th>\n",
       "      <td>I fixed my bio (Cant add a banner because Twit...</td>\n",
       "      <td>suicidal</td>\n",
       "    </tr>\n",
       "    <tr>\n",
       "      <th>5</th>\n",
       "      <td>I feel like if you go to a rooftop day-party i...</td>\n",
       "      <td>suicidal</td>\n",
       "    </tr>\n",
       "    <tr>\n",
       "      <th>6</th>\n",
       "      <td>Raping, beating, and abusing prisoners is an a...</td>\n",
       "      <td>suicidal</td>\n",
       "    </tr>\n",
       "    <tr>\n",
       "      <th>16</th>\n",
       "      <td>@MarijnJH hello sir I am trying to understand ...</td>\n",
       "      <td>suicidal</td>\n",
       "    </tr>\n",
       "  </tbody>\n",
       "</table>\n",
       "</div>"
      ],
      "text/plain": [
       "                                                tweet   emotion\n",
       "1   If I wake up as a white person in my next life...  suicidal\n",
       "2   I fixed my bio (Cant add a banner because Twit...  suicidal\n",
       "5   I feel like if you go to a rooftop day-party i...  suicidal\n",
       "6   Raping, beating, and abusing prisoners is an a...  suicidal\n",
       "16  @MarijnJH hello sir I am trying to understand ...  suicidal"
      ]
     },
     "execution_count": 119,
     "metadata": {},
     "output_type": "execute_result"
    }
   ],
   "source": [
    "df_suicide_drive.head()"
   ]
  },
  {
   "cell_type": "code",
   "execution_count": 120,
   "metadata": {},
   "outputs": [
    {
     "name": "stdout",
     "output_type": "stream",
     "text": [
      "<class 'pandas.core.frame.DataFrame'>\n",
      "Int64Index: 6734 entries, 1 to 25120\n",
      "Data columns (total 2 columns):\n",
      " #   Column   Non-Null Count  Dtype \n",
      "---  ------   --------------  ----- \n",
      " 0   tweet    6734 non-null   object\n",
      " 1   emotion  6734 non-null   object\n",
      "dtypes: object(2)\n",
      "memory usage: 157.8+ KB\n"
     ]
    }
   ],
   "source": [
    "df_suicide_drive.info()"
   ]
  },
  {
   "cell_type": "markdown",
   "metadata": {},
   "source": [
    "#### Merge"
   ]
  },
  {
   "cell_type": "code",
   "execution_count": 122,
   "metadata": {},
   "outputs": [
    {
     "data": {
      "text/html": [
       "<div>\n",
       "<style scoped>\n",
       "    .dataframe tbody tr th:only-of-type {\n",
       "        vertical-align: middle;\n",
       "    }\n",
       "\n",
       "    .dataframe tbody tr th {\n",
       "        vertical-align: top;\n",
       "    }\n",
       "\n",
       "    .dataframe thead th {\n",
       "        text-align: right;\n",
       "    }\n",
       "</style>\n",
       "<table border=\"1\" class=\"dataframe\">\n",
       "  <thead>\n",
       "    <tr style=\"text-align: right;\">\n",
       "      <th></th>\n",
       "      <th>tweet</th>\n",
       "      <th>emotion</th>\n",
       "    </tr>\n",
       "  </thead>\n",
       "  <tbody>\n",
       "    <tr>\n",
       "      <th>0</th>\n",
       "      <td>I’m just a hot mess that’s stressed, depressed...</td>\n",
       "      <td>depressed</td>\n",
       "    </tr>\n",
       "    <tr>\n",
       "      <th>1</th>\n",
       "      <td>I'm so bored of this shit again. I'm so happy ...</td>\n",
       "      <td>depressed</td>\n",
       "    </tr>\n",
       "    <tr>\n",
       "      <th>2</th>\n",
       "      <td>I loved your old stuff but this, this just mak...</td>\n",
       "      <td>depressed</td>\n",
       "    </tr>\n",
       "    <tr>\n",
       "      <th>3</th>\n",
       "      <td>y’all ever get depressed asf, because the one ...</td>\n",
       "      <td>depressed</td>\n",
       "    </tr>\n",
       "    <tr>\n",
       "      <th>4</th>\n",
       "      <td>Actually liau is a sign of maturity i think bu...</td>\n",
       "      <td>depressed</td>\n",
       "    </tr>\n",
       "  </tbody>\n",
       "</table>\n",
       "</div>"
      ],
      "text/plain": [
       "                                               tweet    emotion\n",
       "0  I’m just a hot mess that’s stressed, depressed...  depressed\n",
       "1  I'm so bored of this shit again. I'm so happy ...  depressed\n",
       "2  I loved your old stuff but this, this just mak...  depressed\n",
       "3  y’all ever get depressed asf, because the one ...  depressed\n",
       "4  Actually liau is a sign of maturity i think bu...  depressed"
      ]
     },
     "execution_count": 122,
     "metadata": {},
     "output_type": "execute_result"
    }
   ],
   "source": [
    "df_merged_drive = pd.DataFrame(pd.concat([df_depressed_drive, df_hopeless_drive, df_lonely_drive, df_suicide_drive], names=['tweet', 'emotion'], ignore_index=True))\n",
    "\n",
    "df_merged_drive.head()"
   ]
  },
  {
   "cell_type": "code",
   "execution_count": 123,
   "metadata": {},
   "outputs": [],
   "source": [
    "df_merged_drive.to_csv('final_merged_drive.csv', sep='|', index=False)"
   ]
  },
  {
   "cell_type": "code",
   "execution_count": 124,
   "metadata": {},
   "outputs": [
    {
     "data": {
      "text/plain": [
       "suicidal     6734\n",
       "lonely       5102\n",
       "depressed    4993\n",
       "hopeless     1191\n",
       "Name: emotion, dtype: int64"
      ]
     },
     "execution_count": 124,
     "metadata": {},
     "output_type": "execute_result"
    }
   ],
   "source": [
    "df_merged_drive.emotion.value_counts()"
   ]
  },
  {
   "cell_type": "markdown",
   "metadata": {},
   "source": [
    "#### Merging drive & goEmotions datasets"
   ]
  },
  {
   "cell_type": "code",
   "execution_count": 125,
   "metadata": {},
   "outputs": [],
   "source": [
    "df_emotions_drive = pd.read_csv('final_merged_drive.csv', sep='|')\n",
    "df_emotions_goEmotions = pd.read_csv('final_merged_goEmotions.csv', sep='|')"
   ]
  },
  {
   "cell_type": "code",
   "execution_count": 126,
   "metadata": {},
   "outputs": [],
   "source": [
    "df_merged_drive_goEmotions = pd.DataFrame(pd.concat([df_emotions_drive, df_emotions_goEmotions], names=['tweet', 'emotion'], ignore_index=True))\n"
   ]
  },
  {
   "cell_type": "code",
   "execution_count": 127,
   "metadata": {},
   "outputs": [
    {
     "data": {
      "text/plain": [
       "suicidal          6917\n",
       "disappointment    6769\n",
       "lonely            5102\n",
       "depressed         4993\n",
       "disgust           3420\n",
       "fear              2514\n",
       "embarrassment     1720\n",
       "remorse           1648\n",
       "hopeless          1191\n",
       "nervousness        946\n",
       "grief              494\n",
       "Name: emotion, dtype: int64"
      ]
     },
     "execution_count": 127,
     "metadata": {},
     "output_type": "execute_result"
    }
   ],
   "source": [
    "df_merged_drive_goEmotions.emotion.value_counts()"
   ]
  },
  {
   "cell_type": "code",
   "execution_count": 128,
   "metadata": {},
   "outputs": [],
   "source": [
    "df_merged_drive_goEmotions.to_csv('final_drive_goEmotions.csv', sep='|', index=False)"
   ]
  },
  {
   "cell_type": "code",
   "execution_count": 16,
   "metadata": {},
   "outputs": [],
   "source": [
    "df_merged_drive_goEmotions = pd.read_csv('final_drive_goEmotions.csv', sep='|')"
   ]
  },
  {
   "cell_type": "code",
   "execution_count": 18,
   "metadata": {},
   "outputs": [
    {
     "data": {
      "text/html": [
       "<div>\n",
       "<style scoped>\n",
       "    .dataframe tbody tr th:only-of-type {\n",
       "        vertical-align: middle;\n",
       "    }\n",
       "\n",
       "    .dataframe tbody tr th {\n",
       "        vertical-align: top;\n",
       "    }\n",
       "\n",
       "    .dataframe thead th {\n",
       "        text-align: right;\n",
       "    }\n",
       "</style>\n",
       "<table border=\"1\" class=\"dataframe\">\n",
       "  <thead>\n",
       "    <tr style=\"text-align: right;\">\n",
       "      <th></th>\n",
       "      <th>tweet</th>\n",
       "      <th>emotion</th>\n",
       "    </tr>\n",
       "  </thead>\n",
       "  <tbody>\n",
       "    <tr>\n",
       "      <th>0</th>\n",
       "      <td>I’m just a hot mess that’s stressed, depressed...</td>\n",
       "      <td>depressed</td>\n",
       "    </tr>\n",
       "    <tr>\n",
       "      <th>1</th>\n",
       "      <td>I'm so bored of this shit again. I'm so happy ...</td>\n",
       "      <td>depressed</td>\n",
       "    </tr>\n",
       "    <tr>\n",
       "      <th>2</th>\n",
       "      <td>I loved your old stuff but this, this just mak...</td>\n",
       "      <td>depressed</td>\n",
       "    </tr>\n",
       "    <tr>\n",
       "      <th>3</th>\n",
       "      <td>y’all ever get depressed asf, because the one ...</td>\n",
       "      <td>depressed</td>\n",
       "    </tr>\n",
       "    <tr>\n",
       "      <th>4</th>\n",
       "      <td>Actually liau is a sign of maturity i think bu...</td>\n",
       "      <td>depressed</td>\n",
       "    </tr>\n",
       "  </tbody>\n",
       "</table>\n",
       "</div>"
      ],
      "text/plain": [
       "                                               tweet    emotion\n",
       "0  I’m just a hot mess that’s stressed, depressed...  depressed\n",
       "1  I'm so bored of this shit again. I'm so happy ...  depressed\n",
       "2  I loved your old stuff but this, this just mak...  depressed\n",
       "3  y’all ever get depressed asf, because the one ...  depressed\n",
       "4  Actually liau is a sign of maturity i think bu...  depressed"
      ]
     },
     "execution_count": 18,
     "metadata": {},
     "output_type": "execute_result"
    }
   ],
   "source": [
    "df_merged_drive_goEmotions.head()"
   ]
  },
  {
   "cell_type": "code",
   "execution_count": 17,
   "metadata": {},
   "outputs": [
    {
     "name": "stdout",
     "output_type": "stream",
     "text": [
      "<class 'pandas.core.frame.DataFrame'>\n",
      "RangeIndex: 35714 entries, 0 to 35713\n",
      "Data columns (total 2 columns):\n",
      " #   Column   Non-Null Count  Dtype \n",
      "---  ------   --------------  ----- \n",
      " 0   tweet    35714 non-null  object\n",
      " 1   emotion  35714 non-null  object\n",
      "dtypes: object(2)\n",
      "memory usage: 558.2+ KB\n"
     ]
    }
   ],
   "source": [
    "df_merged_drive_goEmotions.info()"
   ]
  },
  {
   "cell_type": "code",
   "execution_count": 135,
   "metadata": {},
   "outputs": [],
   "source": [
    "df_merged_drive_goEmotions.tweet[0:15000].to_excel('final_drive_goEmotions0_15000.xlsx', index=False)\n",
    "df_merged_drive_goEmotions.tweet[15000:35714].to_excel('final_drive_goEmotions15000_35714.xlsx', index=False)"
   ]
  },
  {
   "cell_type": "code",
   "execution_count": 10,
   "metadata": {},
   "outputs": [],
   "source": [
    "df_merged_drive_goEmotions0 = pd.read_excel('final_drive_goEmotions0_15000_esp.xlsx')\n",
    "df_merged_drive_goEmotions1 = pd.read_excel('final_drive_goEmotions15000_35714_esp.xlsx')"
   ]
  },
  {
   "cell_type": "code",
   "execution_count": 14,
   "metadata": {},
   "outputs": [
    {
     "data": {
      "text/html": [
       "<div>\n",
       "<style scoped>\n",
       "    .dataframe tbody tr th:only-of-type {\n",
       "        vertical-align: middle;\n",
       "    }\n",
       "\n",
       "    .dataframe tbody tr th {\n",
       "        vertical-align: top;\n",
       "    }\n",
       "\n",
       "    .dataframe thead th {\n",
       "        text-align: right;\n",
       "    }\n",
       "</style>\n",
       "<table border=\"1\" class=\"dataframe\">\n",
       "  <thead>\n",
       "    <tr style=\"text-align: right;\">\n",
       "      <th></th>\n",
       "      <th>Pío</th>\n",
       "    </tr>\n",
       "  </thead>\n",
       "  <tbody>\n",
       "    <tr>\n",
       "      <th>0</th>\n",
       "      <td>Solo soy un desastre caliente que está estres...</td>\n",
       "    </tr>\n",
       "    <tr>\n",
       "      <th>1</th>\n",
       "      <td>Estoy tan aburrido de esta mierda de nuevo. E...</td>\n",
       "    </tr>\n",
       "    <tr>\n",
       "      <th>2</th>\n",
       "      <td>Me encantaban tus cosas viejas, pero esto, es...</td>\n",
       "    </tr>\n",
       "    <tr>\n",
       "      <th>3</th>\n",
       "      <td>alguna vez se deprimen, porque la única perso...</td>\n",
       "    </tr>\n",
       "    <tr>\n",
       "      <th>4</th>\n",
       "      <td>En realidad, liau es un signo de madurez, cre...</td>\n",
       "    </tr>\n",
       "  </tbody>\n",
       "</table>\n",
       "</div>"
      ],
      "text/plain": [
       "                                                 Pío\n",
       "0   Solo soy un desastre caliente que está estres...\n",
       "1   Estoy tan aburrido de esta mierda de nuevo. E...\n",
       "2   Me encantaban tus cosas viejas, pero esto, es...\n",
       "3   alguna vez se deprimen, porque la única perso...\n",
       "4   En realidad, liau es un signo de madurez, cre..."
      ]
     },
     "execution_count": 14,
     "metadata": {},
     "output_type": "execute_result"
    }
   ],
   "source": [
    "df_merged_drive_goEmotions_esp = pd.DataFrame(pd.concat([df_merged_drive_goEmotions0, df_merged_drive_goEmotions1], ignore_index=True))\n",
    "df_merged_drive_goEmotions_esp.head()"
   ]
  },
  {
   "cell_type": "code",
   "execution_count": 19,
   "metadata": {},
   "outputs": [],
   "source": [
    "df_merged_drive_goEmotions_esp['emotion'] = df_merged_drive_goEmotions.emotion"
   ]
  },
  {
   "cell_type": "code",
   "execution_count": 22,
   "metadata": {},
   "outputs": [
    {
     "data": {
      "text/plain": [
       "suicidal          6917\n",
       "disappointment    6769\n",
       "lonely            5102\n",
       "depressed         4993\n",
       "disgust           3420\n",
       "fear              2514\n",
       "embarrassment     1720\n",
       "remorse           1648\n",
       "hopeless          1191\n",
       "nervousness        946\n",
       "grief              494\n",
       "Name: emotion, dtype: int64"
      ]
     },
     "execution_count": 22,
     "metadata": {},
     "output_type": "execute_result"
    }
   ],
   "source": [
    "df_merged_drive_goEmotions_esp.emotion.value_counts()"
   ]
  },
  {
   "cell_type": "code",
   "execution_count": 24,
   "metadata": {},
   "outputs": [],
   "source": [
    "df_merged_drive_goEmotions_esp.rename(columns={\"Pío\": \"tweet\"}, inplace=True)\n"
   ]
  },
  {
   "cell_type": "code",
   "execution_count": 26,
   "metadata": {},
   "outputs": [],
   "source": [
    "df_merged_drive_goEmotions_esp.to_csv('ESP_merged_drive_goEmotions.csv', sep='|', index=False)"
   ]
  },
  {
   "cell_type": "markdown",
   "metadata": {},
   "source": [
    "Final merge"
   ]
  },
  {
   "cell_type": "code",
   "execution_count": 27,
   "metadata": {},
   "outputs": [
    {
     "data": {
      "text/html": [
       "<div>\n",
       "<style scoped>\n",
       "    .dataframe tbody tr th:only-of-type {\n",
       "        vertical-align: middle;\n",
       "    }\n",
       "\n",
       "    .dataframe tbody tr th {\n",
       "        vertical-align: top;\n",
       "    }\n",
       "\n",
       "    .dataframe thead th {\n",
       "        text-align: right;\n",
       "    }\n",
       "</style>\n",
       "<table border=\"1\" class=\"dataframe\">\n",
       "  <thead>\n",
       "    <tr style=\"text-align: right;\">\n",
       "      <th></th>\n",
       "      <th>tweet</th>\n",
       "      <th>emotion</th>\n",
       "    </tr>\n",
       "  </thead>\n",
       "  <tbody>\n",
       "    <tr>\n",
       "      <th>0</th>\n",
       "      <td>Solo soy un desastre caliente que está estres...</td>\n",
       "      <td>depressed</td>\n",
       "    </tr>\n",
       "    <tr>\n",
       "      <th>1</th>\n",
       "      <td>Estoy tan aburrido de esta mierda de nuevo. E...</td>\n",
       "      <td>depressed</td>\n",
       "    </tr>\n",
       "    <tr>\n",
       "      <th>2</th>\n",
       "      <td>Me encantaban tus cosas viejas, pero esto, es...</td>\n",
       "      <td>depressed</td>\n",
       "    </tr>\n",
       "    <tr>\n",
       "      <th>3</th>\n",
       "      <td>alguna vez se deprimen, porque la única perso...</td>\n",
       "      <td>depressed</td>\n",
       "    </tr>\n",
       "    <tr>\n",
       "      <th>4</th>\n",
       "      <td>En realidad, liau es un signo de madurez, cre...</td>\n",
       "      <td>depressed</td>\n",
       "    </tr>\n",
       "  </tbody>\n",
       "</table>\n",
       "</div>"
      ],
      "text/plain": [
       "                                               tweet    emotion\n",
       "0   Solo soy un desastre caliente que está estres...  depressed\n",
       "1   Estoy tan aburrido de esta mierda de nuevo. E...  depressed\n",
       "2   Me encantaban tus cosas viejas, pero esto, es...  depressed\n",
       "3   alguna vez se deprimen, porque la única perso...  depressed\n",
       "4   En realidad, liau es un signo de madurez, cre...  depressed"
      ]
     },
     "execution_count": 27,
     "metadata": {},
     "output_type": "execute_result"
    }
   ],
   "source": [
    "df_esp_final = pd.DataFrame(pd.concat([df_merged_drive_goEmotions_esp, df_spanishMerged], names=['tweet', 'emotion'], ignore_index=True))\n",
    "df_esp_final.head()"
   ]
  },
  {
   "cell_type": "code",
   "execution_count": 28,
   "metadata": {},
   "outputs": [
    {
     "name": "stdout",
     "output_type": "stream",
     "text": [
      "<class 'pandas.core.frame.DataFrame'>\n",
      "RangeIndex: 48249 entries, 0 to 48248\n",
      "Data columns (total 2 columns):\n",
      " #   Column   Non-Null Count  Dtype \n",
      "---  ------   --------------  ----- \n",
      " 0   tweet    48249 non-null  object\n",
      " 1   emotion  48249 non-null  object\n",
      "dtypes: object(2)\n",
      "memory usage: 754.0+ KB\n"
     ]
    }
   ],
   "source": [
    "df_esp_final.info()"
   ]
  },
  {
   "cell_type": "code",
   "execution_count": 18,
   "metadata": {},
   "outputs": [],
   "source": [
    "df_esp_final.to_csv('ESP_FINAL_CORPUS.csv', sep='|', index=False)"
   ]
  },
  {
   "cell_type": "markdown",
   "metadata": {},
   "source": [
    "-------"
   ]
  },
  {
   "cell_type": "markdown",
   "metadata": {},
   "source": [
    "### FINE-TUNING"
   ]
  },
  {
   "cell_type": "code",
   "execution_count": 2,
   "metadata": {},
   "outputs": [],
   "source": [
    "df_esp_final = pd.read_csv('ESP_FINAL_CORPUS.csv', sep='|')"
   ]
  },
  {
   "cell_type": "code",
   "execution_count": 8,
   "metadata": {},
   "outputs": [
    {
     "name": "stdout",
     "output_type": "stream",
     "text": [
      "<class 'pandas.core.frame.DataFrame'>\n",
      "RangeIndex: 40806 entries, 0 to 40805\n",
      "Data columns (total 2 columns):\n",
      " #   Column   Non-Null Count  Dtype \n",
      "---  ------   --------------  ----- \n",
      " 0   tweet    40806 non-null  object\n",
      " 1   emotion  40806 non-null  object\n",
      "dtypes: object(2)\n",
      "memory usage: 637.7+ KB\n"
     ]
    }
   ],
   "source": [
    "df_esp_final.info()"
   ]
  },
  {
   "cell_type": "code",
   "execution_count": 9,
   "metadata": {},
   "outputs": [
    {
     "data": {
      "text/plain": [
       "neutral           6995\n",
       "suicidal          6830\n",
       "depressed         5949\n",
       "lonely            5023\n",
       "disappointment    4765\n",
       "disgust           2289\n",
       "fear              2235\n",
       "anger             1388\n",
       "sadness           1201\n",
       "hopeless          1180\n",
       "embarrassment     1094\n",
       "remorse            956\n",
       "nervousness        611\n",
       "grief              290\n",
       "Name: emotion, dtype: int64"
      ]
     },
     "execution_count": 9,
     "metadata": {},
     "output_type": "execute_result"
    }
   ],
   "source": [
    "df_esp_final.emotion.value_counts()"
   ]
  },
  {
   "cell_type": "code",
   "execution_count": 10,
   "metadata": {},
   "outputs": [],
   "source": [
    "df_esp_final.emotion = pd.Categorical(df_esp_final.emotion)\n",
    "df_esp_final['label'] = df_esp_final.emotion.cat.codes"
   ]
  },
  {
   "cell_type": "code",
   "execution_count": 11,
   "metadata": {},
   "outputs": [
    {
     "data": {
      "text/plain": [
       "{0: 'anger',\n",
       " 1: 'depressed',\n",
       " 2: 'disappointment',\n",
       " 3: 'disgust',\n",
       " 4: 'embarrassment',\n",
       " 5: 'fear',\n",
       " 6: 'grief',\n",
       " 7: 'hopeless',\n",
       " 8: 'lonely',\n",
       " 9: 'nervousness',\n",
       " 10: 'neutral',\n",
       " 11: 'remorse',\n",
       " 12: 'sadness',\n",
       " 13: 'suicidal'}"
      ]
     },
     "execution_count": 11,
     "metadata": {},
     "output_type": "execute_result"
    }
   ],
   "source": [
    "id2label = df_esp_final[['emotion', 'label']].drop_duplicates(keep='first').sort_values(by='label').reset_index(drop=True)['emotion'].to_dict()\n",
    "id2label"
   ]
  },
  {
   "cell_type": "code",
   "execution_count": 12,
   "metadata": {},
   "outputs": [
    {
     "data": {
      "text/plain": [
       "{'anger': 0,\n",
       " 'depressed': 1,\n",
       " 'disappointment': 2,\n",
       " 'disgust': 3,\n",
       " 'embarrassment': 4,\n",
       " 'fear': 5,\n",
       " 'grief': 6,\n",
       " 'hopeless': 7,\n",
       " 'lonely': 8,\n",
       " 'nervousness': 9,\n",
       " 'neutral': 10,\n",
       " 'remorse': 11,\n",
       " 'sadness': 12,\n",
       " 'suicidal': 13}"
      ]
     },
     "execution_count": 12,
     "metadata": {},
     "output_type": "execute_result"
    }
   ],
   "source": [
    "label2id = {v:k for k,v in id2label.items()}\n",
    "label2id"
   ]
  },
  {
   "cell_type": "code",
   "execution_count": 8,
   "metadata": {},
   "outputs": [
    {
     "data": {
      "text/html": [
       "<div>\n",
       "<style scoped>\n",
       "    .dataframe tbody tr th:only-of-type {\n",
       "        vertical-align: middle;\n",
       "    }\n",
       "\n",
       "    .dataframe tbody tr th {\n",
       "        vertical-align: top;\n",
       "    }\n",
       "\n",
       "    .dataframe thead th {\n",
       "        text-align: right;\n",
       "    }\n",
       "</style>\n",
       "<table border=\"1\" class=\"dataframe\">\n",
       "  <thead>\n",
       "    <tr style=\"text-align: right;\">\n",
       "      <th></th>\n",
       "      <th>tweet</th>\n",
       "      <th>label</th>\n",
       "    </tr>\n",
       "  </thead>\n",
       "  <tbody>\n",
       "    <tr>\n",
       "      <th>0</th>\n",
       "      <td>Solo soy un desastre caliente que está estres...</td>\n",
       "      <td>1</td>\n",
       "    </tr>\n",
       "    <tr>\n",
       "      <th>1</th>\n",
       "      <td>Estoy tan aburrido de esta mierda de nuevo. E...</td>\n",
       "      <td>1</td>\n",
       "    </tr>\n",
       "    <tr>\n",
       "      <th>2</th>\n",
       "      <td>Me encantaban tus cosas viejas, pero esto, es...</td>\n",
       "      <td>1</td>\n",
       "    </tr>\n",
       "    <tr>\n",
       "      <th>3</th>\n",
       "      <td>alguna vez se deprimen, porque la única perso...</td>\n",
       "      <td>1</td>\n",
       "    </tr>\n",
       "    <tr>\n",
       "      <th>4</th>\n",
       "      <td>En realidad, liau es un signo de madurez, cre...</td>\n",
       "      <td>1</td>\n",
       "    </tr>\n",
       "    <tr>\n",
       "      <th>...</th>\n",
       "      <td>...</td>\n",
       "      <td>...</td>\n",
       "    </tr>\n",
       "    <tr>\n",
       "      <th>40801</th>\n",
       "      <td>La gente le dice burro a otro y ni sabe escrib...</td>\n",
       "      <td>10</td>\n",
       "    </tr>\n",
       "    <tr>\n",
       "      <th>40802</th>\n",
       "      <td>¡Dios Mío ! Yo creo , adoro , espero y os amo...</td>\n",
       "      <td>10</td>\n",
       "    </tr>\n",
       "    <tr>\n",
       "      <th>40803</th>\n",
       "      <td>En fotos : El hombre con el peor trabajo del m...</td>\n",
       "      <td>10</td>\n",
       "    </tr>\n",
       "    <tr>\n",
       "      <th>40804</th>\n",
       "      <td>Los chorros llamando a la policía para que los...</td>\n",
       "      <td>10</td>\n",
       "    </tr>\n",
       "    <tr>\n",
       "      <th>40805</th>\n",
       "      <td>TUSERUSER Estamos interesados en que participe...</td>\n",
       "      <td>10</td>\n",
       "    </tr>\n",
       "  </tbody>\n",
       "</table>\n",
       "<p>40806 rows × 2 columns</p>\n",
       "</div>"
      ],
      "text/plain": [
       "                                                   tweet  label\n",
       "0       Solo soy un desastre caliente que está estres...      1\n",
       "1       Estoy tan aburrido de esta mierda de nuevo. E...      1\n",
       "2       Me encantaban tus cosas viejas, pero esto, es...      1\n",
       "3       alguna vez se deprimen, porque la única perso...      1\n",
       "4       En realidad, liau es un signo de madurez, cre...      1\n",
       "...                                                  ...    ...\n",
       "40801  La gente le dice burro a otro y ni sabe escrib...     10\n",
       "40802   ¡Dios Mío ! Yo creo , adoro , espero y os amo...     10\n",
       "40803  En fotos : El hombre con el peor trabajo del m...     10\n",
       "40804  Los chorros llamando a la policía para que los...     10\n",
       "40805  TUSERUSER Estamos interesados en que participe...     10\n",
       "\n",
       "[40806 rows x 2 columns]"
      ]
     },
     "execution_count": 8,
     "metadata": {},
     "output_type": "execute_result"
    }
   ],
   "source": [
    "df_esp_final.drop(df_esp_final[df_esp_final.tweet.isna() == True].index, inplace=True)\n",
    "df_esp_final.drop(columns='emotion', inplace=True)\n",
    "\n",
    "df_esp_final"
   ]
  },
  {
   "cell_type": "code",
   "execution_count": 16,
   "metadata": {},
   "outputs": [],
   "source": [
    "train, validation, test = np.split(df_esp_final.sample(frac=1), [int(.6*len(df_esp_final)), int(.8*len(df_esp_final))])"
   ]
  },
  {
   "cell_type": "code",
   "execution_count": 17,
   "metadata": {},
   "outputs": [],
   "source": [
    "train.reset_index(drop=True, inplace=True)\n",
    "test.reset_index(drop=True, inplace=True)\n",
    "validation.reset_index(drop=True, inplace=True)"
   ]
  },
  {
   "cell_type": "code",
   "execution_count": 18,
   "metadata": {},
   "outputs": [],
   "source": [
    "train.to_csv('train.csv', sep='|', index=False)\n",
    "validation.to_csv('validation.csv', sep='|', index=False)\n",
    "test.to_csv('test.csv', sep='|', index=False)"
   ]
  },
  {
   "cell_type": "code",
   "execution_count": 9,
   "metadata": {},
   "outputs": [],
   "source": [
    "#train = pd.read_csv('train.csv', sep='|')\n",
    "#validation = pd.read_csv('validation.csv', sep='|')\n",
    "#test = pd.read_csv('test.csv', sep='|')\n",
    "\n",
    "train = train[train['tweet'].map(len) <= 280]\n",
    "validation = validation[validation['tweet'].map(len) <= 280]\n",
    "test = test[test['tweet'].map(len) <= 280]\n"
   ]
  },
  {
   "cell_type": "code",
   "execution_count": 10,
   "metadata": {},
   "outputs": [
    {
     "data": {
      "text/plain": [
       "10    4246\n",
       "1     3032\n",
       "13    2897\n",
       "2     2883\n",
       "8     2733\n",
       "3     1362\n",
       "5     1252\n",
       "0      728\n",
       "4      662\n",
       "12     595\n",
       "11     572\n",
       "7      545\n",
       "9      375\n",
       "6      186\n",
       "Name: label, dtype: int64"
      ]
     },
     "execution_count": 10,
     "metadata": {},
     "output_type": "execute_result"
    }
   ],
   "source": [
    "train.label.value_counts()"
   ]
  },
  {
   "cell_type": "code",
   "execution_count": 11,
   "metadata": {},
   "outputs": [
    {
     "data": {
      "text/plain": [
       "10    1357\n",
       "13    1031\n",
       "1      999\n",
       "2      949\n",
       "8      947\n",
       "3      462\n",
       "5      425\n",
       "4      222\n",
       "0      212\n",
       "12     201\n",
       "11     193\n",
       "7      177\n",
       "9      125\n",
       "6       56\n",
       "Name: label, dtype: int64"
      ]
     },
     "execution_count": 11,
     "metadata": {},
     "output_type": "execute_result"
    }
   ],
   "source": [
    "validation.label.value_counts()"
   ]
  },
  {
   "cell_type": "code",
   "execution_count": 12,
   "metadata": {},
   "outputs": [
    {
     "data": {
      "text/plain": [
       "10    1389\n",
       "1     1048\n",
       "13    1020\n",
       "2      933\n",
       "8      847\n",
       "3      465\n",
       "5      459\n",
       "0      242\n",
       "4      210\n",
       "12     205\n",
       "11     191\n",
       "7      185\n",
       "9      111\n",
       "6       48\n",
       "Name: label, dtype: int64"
      ]
     },
     "execution_count": 12,
     "metadata": {},
     "output_type": "execute_result"
    }
   ],
   "source": [
    "test.label.value_counts()"
   ]
  },
  {
   "cell_type": "code",
   "execution_count": 10,
   "metadata": {},
   "outputs": [],
   "source": [
    "train_dataset = Dataset.from_pandas(train)\n",
    "validation_dataset = Dataset.from_pandas(validation)"
   ]
  },
  {
   "cell_type": "code",
   "execution_count": 11,
   "metadata": {},
   "outputs": [],
   "source": [
    "#'roberta-base'\n",
    "#'PlanTL-GOB-ES/roberta-base-bne'\n",
    "#'dccuchile/bert-base-spanish-wwm-uncased'\n",
    "#'bertin-project/bertin-roberta-base-spanish'\n",
    "#'pysentimiento/robertuito-base-uncased'\n",
    "#'google/electra-base-discriminator'\n",
    "#'mrm8488/electricidad-base-discriminator'\n",
    "#'mrm8488/RuPERTa-base'\n",
    "\n",
    "model_ckpt='pysentimiento/robertuito-base-uncased'\n",
    "tokenizer = AutoTokenizer.from_pretrained(model_ckpt)"
   ]
  },
  {
   "cell_type": "code",
   "execution_count": 12,
   "metadata": {},
   "outputs": [],
   "source": [
    "def tokenize_tweets(tweet):\n",
    "    return tokenizer(tweet['tweet'], truncation=True, max_length=64) "
   ]
  },
  {
   "cell_type": "code",
   "execution_count": 13,
   "metadata": {},
   "outputs": [
    {
     "name": "stderr",
     "output_type": "stream",
     "text": [
      "100%|██████████| 23/23 [00:00<00:00, 25.91ba/s]\n"
     ]
    },
    {
     "data": {
      "text/plain": [
       "Dataset({\n",
       "    features: ['__index_level_0__', 'attention_mask', 'input_ids', 'label', 'tweet'],\n",
       "    num_rows: 22068\n",
       "})"
      ]
     },
     "execution_count": 13,
     "metadata": {},
     "output_type": "execute_result"
    }
   ],
   "source": [
    "train_dataset = train_dataset.map(tokenize_tweets, batched=True)\n",
    "train_dataset"
   ]
  },
  {
   "cell_type": "code",
   "execution_count": 14,
   "metadata": {},
   "outputs": [
    {
     "name": "stderr",
     "output_type": "stream",
     "text": [
      "100%|██████████| 8/8 [00:00<00:00, 29.99ba/s]\n"
     ]
    },
    {
     "data": {
      "text/plain": [
       "Dataset({\n",
       "    features: ['__index_level_0__', 'attention_mask', 'input_ids', 'label', 'tweet'],\n",
       "    num_rows: 7356\n",
       "})"
      ]
     },
     "execution_count": 14,
     "metadata": {},
     "output_type": "execute_result"
    }
   ],
   "source": [
    "validation_dataset = validation_dataset.map(tokenize_tweets, batched=True)\n",
    "validation_dataset"
   ]
  },
  {
   "cell_type": "code",
   "execution_count": 15,
   "metadata": {},
   "outputs": [
    {
     "data": {
      "text/plain": [
       "tensor([0.9670, 0.8626, 0.8694, 0.9383, 0.9700, 0.9433, 0.9916, 0.9753, 0.8762,\n",
       "        0.9830, 0.8076, 0.9741, 0.9730, 0.8687], device='cuda:0')"
      ]
     },
     "execution_count": 15,
     "metadata": {},
     "output_type": "execute_result"
    }
   ],
   "source": [
    "class_weights = (1 - (train['label'].value_counts().sort_index() /len(train))).values \n",
    "class_weights\n",
    "\n",
    "class_weights = torch.from_numpy(class_weights).float().to(\"cuda\")"
   ]
  },
  {
   "cell_type": "code",
   "execution_count": 24,
   "metadata": {},
   "outputs": [
    {
     "data": {
      "text/plain": [
       "True"
      ]
     },
     "execution_count": 24,
     "metadata": {},
     "output_type": "execute_result"
    }
   ],
   "source": [
    "torch.cuda.is_available()"
   ]
  },
  {
   "cell_type": "code",
   "execution_count": 16,
   "metadata": {},
   "outputs": [],
   "source": [
    "train_dataset = train_dataset.rename_column(\"label\", \"labels\")\n",
    "validation_dataset = validation_dataset.rename_column(\"label\", \"labels\")\n",
    "\n",
    "train_dataset = train_dataset.rename_column(\"tweet\", \"text\")\n",
    "validation_dataset = validation_dataset.rename_column(\"tweet\", \"text\")"
   ]
  },
  {
   "cell_type": "code",
   "execution_count": 17,
   "metadata": {},
   "outputs": [],
   "source": [
    "#Loss function\n",
    "class WheightedLossTrainer(Trainer):\n",
    "    def compute_loss(self, model, inputs, return_outputs=False):\n",
    "        outputs = model(**inputs)\n",
    "        logits = outputs.get(\"logits\")\n",
    "        labels = inputs.get(\"labels\")\n",
    "        loss_func = nn.CrossEntropyLoss(weight=class_weights)\n",
    "        loss = loss_func(logits, labels)\n",
    "\n",
    "        return (loss, outputs) if return_outputs else loss"
   ]
  },
  {
   "cell_type": "code",
   "execution_count": 18,
   "metadata": {},
   "outputs": [
    {
     "name": "stderr",
     "output_type": "stream",
     "text": [
      "Some weights of the model checkpoint at mrm8488/RuPERTa-base were not used when initializing RobertaForSequenceClassification: ['lm_head.layer_norm.weight', 'lm_head.decoder.bias', 'roberta.pooler.dense.bias', 'lm_head.bias', 'lm_head.decoder.weight', 'lm_head.dense.weight', 'lm_head.dense.bias', 'lm_head.layer_norm.bias', 'roberta.pooler.dense.weight']\n",
      "- This IS expected if you are initializing RobertaForSequenceClassification from the checkpoint of a model trained on another task or with another architecture (e.g. initializing a BertForSequenceClassification model from a BertForPreTraining model).\n",
      "- This IS NOT expected if you are initializing RobertaForSequenceClassification from the checkpoint of a model that you expect to be exactly identical (initializing a BertForSequenceClassification model from a BertForSequenceClassification model).\n",
      "Some weights of RobertaForSequenceClassification were not initialized from the model checkpoint at mrm8488/RuPERTa-base and are newly initialized: ['classifier.out_proj.bias', 'classifier.out_proj.weight', 'classifier.dense.bias', 'classifier.dense.weight']\n",
      "You should probably TRAIN this model on a down-stream task to be able to use it for predictions and inference.\n"
     ]
    }
   ],
   "source": [
    "num_labels = len(id2label)\n",
    "model = AutoModelForSequenceClassification.from_pretrained(model_ckpt, num_labels=num_labels, id2label=id2label, label2id=label2id)"
   ]
  },
  {
   "cell_type": "code",
   "execution_count": 19,
   "metadata": {},
   "outputs": [],
   "source": [
    "def compute_metrics(pred):\n",
    "    labels = pred.label_ids\n",
    "    preds = pred.predictions.argmax(-1)\n",
    "    f1 = f1_score(labels, preds, average=\"weighted\")\n",
    "    return {\"f1\": f1}"
   ]
  },
  {
   "cell_type": "code",
   "execution_count": 20,
   "metadata": {},
   "outputs": [],
   "source": [
    "#Training Arguments\n",
    "batch_size = 16\n",
    "logging_steps = len(train_dataset)\n",
    "output_dir = \"finetuned-emotion\"\n",
    "training_args = TrainingArguments(output_dir=output_dir,\n",
    "                                  num_train_epochs=2, \n",
    "                                  learning_rate=5e-5, \n",
    "                                  per_device_train_batch_size=batch_size,\n",
    "                                  per_device_eval_batch_size=batch_size, \n",
    "                                  weight_decay=0.01, \n",
    "                                  evaluation_strategy=\"epoch\", \n",
    "                                  logging_steps=logging_steps, \n",
    "                                  fp16=True,\n",
    "                                  )"
   ]
  },
  {
   "cell_type": "code",
   "execution_count": 21,
   "metadata": {},
   "outputs": [
    {
     "name": "stderr",
     "output_type": "stream",
     "text": [
      "Using amp half precision backend\n"
     ]
    }
   ],
   "source": [
    "trainer = WheightedLossTrainer(model=model,\n",
    "                               args=training_args,\n",
    "                               compute_metrics=compute_metrics,\n",
    "                               train_dataset=train_dataset,\n",
    "                               eval_dataset=validation_dataset,\n",
    "                               tokenizer=tokenizer)"
   ]
  },
  {
   "cell_type": "code",
   "execution_count": null,
   "metadata": {},
   "outputs": [],
   "source": [
    "trainer.train()"
   ]
  },
  {
   "cell_type": "code",
   "execution_count": null,
   "metadata": {},
   "outputs": [],
   "source": [
    "trainer.evaluate()"
   ]
  },
  {
   "cell_type": "code",
   "execution_count": null,
   "metadata": {},
   "outputs": [],
   "source": [
    "trainer.save_model(model_ckpt + '-save')\n",
    "tokenizer.save_pretrained(model_ckpt + '-save')"
   ]
  },
  {
   "cell_type": "markdown",
   "metadata": {},
   "source": [
    "--------\n",
    "### UTILS"
   ]
  },
  {
   "cell_type": "code",
   "execution_count": 4,
   "metadata": {},
   "outputs": [],
   "source": [
    "def predictEmotion(data, model):\n",
    "    pipe = pipeline(\"text-classification\", model=model)\n",
    "    test = pd.read_csv(data, sep=\"|\")\n",
    "    test_dataset = Dataset.from_pandas(test)\n",
    "\n",
    "    predictedLabel = []\n",
    "    for prediction in tqdm(pipe(KeyDataset(test_dataset, \"tweet\"))):\n",
    "        predictedLabel.append(label2id.get(prediction.get('label')))\n",
    "        \n",
    "    test['predicted_label'] = predictedLabel\n",
    "\n",
    "    return test\n"
   ]
  },
  {
   "cell_type": "code",
   "execution_count": 26,
   "metadata": {},
   "outputs": [],
   "source": [
    "def saveConfusionMatrix(y_true, y_pred):\n",
    "    fig, ax = plt.subplots(figsize=(10, 10))\n",
    "    labels = list(label2id)\n",
    "    cm = confusion_matrix(y_true, y_pred)\n",
    "    disp = ConfusionMatrixDisplay(confusion_matrix=cm, display_labels=labels)\n",
    "    disp = disp.plot(xticks_rotation=-45, ax=ax)\n",
    "    plt.title(imgName,  fontsize=18, pad=20)    \n",
    "    plt.savefig(imgName, bbox_inches='tight')"
   ]
  },
  {
   "cell_type": "code",
   "execution_count": 27,
   "metadata": {},
   "outputs": [],
   "source": [
    "def saveClassificationReport(imgName, y_true, y_pred, labels):\n",
    "    clf_report = classification_report(y_true, y_pred, target_names=labels, output_dict=True)\n",
    "    clf_report = pd.DataFrame(clf_report).iloc[:-1, :].transpose()\n",
    "    clf_report_macro = clf_report[14:]\n",
    "    clf_report = clf_report[0:14].sort_values(by=['f1-score'], ascending=False)\n",
    "    clf_report= pd.concat([clf_report, clf_report_macro])\n",
    "    ax = sns.heatmap(clf_report, annot=True)\n",
    "    ax.xaxis.tick_top() # x axis on top\n",
    "    plt.title(\"classification_report_\" + imgName,  fontsize=18, pad=20 )\n",
    "    plt.savefig(imgName + '_clf', bbox_inches='tight')\n",
    "\n",
    "    return clf_report\n"
   ]
  },
  {
   "cell_type": "code",
   "execution_count": 2,
   "metadata": {},
   "outputs": [],
   "source": [
    "def printMacroF1(y_true, y_pred):\n",
    "    f1 = f1_score(y_true, y_pred, average=None)\n",
    "    i = 0\n",
    "    for label in label2id:\n",
    "        print(label, \": \", round(f1[i], 2))\n",
    "        i+=1"
   ]
  },
  {
   "cell_type": "markdown",
   "metadata": {},
   "source": [
    "---------"
   ]
  },
  {
   "cell_type": "markdown",
   "metadata": {},
   "source": [
    "### Model results"
   ]
  },
  {
   "cell_type": "code",
   "execution_count": 29,
   "metadata": {},
   "outputs": [],
   "source": [
    "imgName = 'RuPERTa-base'\n",
    "data = 'test.csv'\n",
    "modelSaved = 'mrm8488/RuPERTa-base-save'"
   ]
  },
  {
   "cell_type": "code",
   "execution_count": 30,
   "metadata": {},
   "outputs": [
    {
     "name": "stderr",
     "output_type": "stream",
     "text": [
      "loading configuration file mrm8488/RuPERTa-base-save\\config.json\n",
      "Model config RobertaConfig {\n",
      "  \"_name_or_path\": \"mrm8488/RuPERTa-base-save\",\n",
      "  \"_num_labels\": 2,\n",
      "  \"architectures\": [\n",
      "    \"RobertaForSequenceClassification\"\n",
      "  ],\n",
      "  \"attention_probs_dropout_prob\": 0.1,\n",
      "  \"bos_token_id\": 0,\n",
      "  \"classifier_dropout\": null,\n",
      "  \"eos_token_id\": 2,\n",
      "  \"hidden_act\": \"gelu\",\n",
      "  \"hidden_dropout_prob\": 0.1,\n",
      "  \"hidden_size\": 768,\n",
      "  \"id2label\": {\n",
      "    \"0\": \"anger\",\n",
      "    \"1\": \"depressed\",\n",
      "    \"2\": \"disappointment\",\n",
      "    \"3\": \"disgust\",\n",
      "    \"4\": \"embarrassment\",\n",
      "    \"5\": \"fear\",\n",
      "    \"6\": \"grief\",\n",
      "    \"7\": \"hopeless\",\n",
      "    \"8\": \"lonely\",\n",
      "    \"9\": \"nervousness\",\n",
      "    \"10\": \"neutral\",\n",
      "    \"11\": \"remorse\",\n",
      "    \"12\": \"sadness\",\n",
      "    \"13\": \"suicidal\"\n",
      "  },\n",
      "  \"initializer_range\": 0.02,\n",
      "  \"intermediate_size\": 3072,\n",
      "  \"label2id\": {\n",
      "    \"anger\": 0,\n",
      "    \"depressed\": 1,\n",
      "    \"disappointment\": 2,\n",
      "    \"disgust\": 3,\n",
      "    \"embarrassment\": 4,\n",
      "    \"fear\": 5,\n",
      "    \"grief\": 6,\n",
      "    \"hopeless\": 7,\n",
      "    \"lonely\": 8,\n",
      "    \"nervousness\": 9,\n",
      "    \"neutral\": 10,\n",
      "    \"remorse\": 11,\n",
      "    \"sadness\": 12,\n",
      "    \"suicidal\": 13\n",
      "  },\n",
      "  \"layer_norm_eps\": 1e-05,\n",
      "  \"max_position_embeddings\": 514,\n",
      "  \"model_type\": \"roberta\",\n",
      "  \"num_attention_heads\": 12,\n",
      "  \"num_hidden_layers\": 12,\n",
      "  \"output_past\": true,\n",
      "  \"pad_token_id\": 1,\n",
      "  \"position_embedding_type\": \"absolute\",\n",
      "  \"problem_type\": \"single_label_classification\",\n",
      "  \"torch_dtype\": \"float32\",\n",
      "  \"transformers_version\": \"4.18.0\",\n",
      "  \"type_vocab_size\": 1,\n",
      "  \"use_cache\": true,\n",
      "  \"vocab_size\": 52000\n",
      "}\n",
      "\n",
      "loading configuration file mrm8488/RuPERTa-base-save\\config.json\n",
      "Model config RobertaConfig {\n",
      "  \"_name_or_path\": \"mrm8488/RuPERTa-base-save\",\n",
      "  \"_num_labels\": 2,\n",
      "  \"architectures\": [\n",
      "    \"RobertaForSequenceClassification\"\n",
      "  ],\n",
      "  \"attention_probs_dropout_prob\": 0.1,\n",
      "  \"bos_token_id\": 0,\n",
      "  \"classifier_dropout\": null,\n",
      "  \"eos_token_id\": 2,\n",
      "  \"hidden_act\": \"gelu\",\n",
      "  \"hidden_dropout_prob\": 0.1,\n",
      "  \"hidden_size\": 768,\n",
      "  \"id2label\": {\n",
      "    \"0\": \"anger\",\n",
      "    \"1\": \"depressed\",\n",
      "    \"2\": \"disappointment\",\n",
      "    \"3\": \"disgust\",\n",
      "    \"4\": \"embarrassment\",\n",
      "    \"5\": \"fear\",\n",
      "    \"6\": \"grief\",\n",
      "    \"7\": \"hopeless\",\n",
      "    \"8\": \"lonely\",\n",
      "    \"9\": \"nervousness\",\n",
      "    \"10\": \"neutral\",\n",
      "    \"11\": \"remorse\",\n",
      "    \"12\": \"sadness\",\n",
      "    \"13\": \"suicidal\"\n",
      "  },\n",
      "  \"initializer_range\": 0.02,\n",
      "  \"intermediate_size\": 3072,\n",
      "  \"label2id\": {\n",
      "    \"anger\": 0,\n",
      "    \"depressed\": 1,\n",
      "    \"disappointment\": 2,\n",
      "    \"disgust\": 3,\n",
      "    \"embarrassment\": 4,\n",
      "    \"fear\": 5,\n",
      "    \"grief\": 6,\n",
      "    \"hopeless\": 7,\n",
      "    \"lonely\": 8,\n",
      "    \"nervousness\": 9,\n",
      "    \"neutral\": 10,\n",
      "    \"remorse\": 11,\n",
      "    \"sadness\": 12,\n",
      "    \"suicidal\": 13\n",
      "  },\n",
      "  \"layer_norm_eps\": 1e-05,\n",
      "  \"max_position_embeddings\": 514,\n",
      "  \"model_type\": \"roberta\",\n",
      "  \"num_attention_heads\": 12,\n",
      "  \"num_hidden_layers\": 12,\n",
      "  \"output_past\": true,\n",
      "  \"pad_token_id\": 1,\n",
      "  \"position_embedding_type\": \"absolute\",\n",
      "  \"problem_type\": \"single_label_classification\",\n",
      "  \"torch_dtype\": \"float32\",\n",
      "  \"transformers_version\": \"4.18.0\",\n",
      "  \"type_vocab_size\": 1,\n",
      "  \"use_cache\": true,\n",
      "  \"vocab_size\": 52000\n",
      "}\n",
      "\n",
      "loading weights file mrm8488/RuPERTa-base-save\\pytorch_model.bin\n",
      "All model checkpoint weights were used when initializing RobertaForSequenceClassification.\n",
      "\n",
      "All the weights of RobertaForSequenceClassification were initialized from the model checkpoint at mrm8488/RuPERTa-base-save.\n",
      "If your task is similar to the task the model of the checkpoint was trained on, you can already use RobertaForSequenceClassification for predictions without further training.\n",
      "Didn't find file mrm8488/RuPERTa-base-save\\added_tokens.json. We won't load it.\n",
      "loading file mrm8488/RuPERTa-base-save\\vocab.json\n",
      "loading file mrm8488/RuPERTa-base-save\\merges.txt\n",
      "loading file mrm8488/RuPERTa-base-save\\tokenizer.json\n",
      "loading file None\n",
      "loading file mrm8488/RuPERTa-base-save\\special_tokens_map.json\n",
      "loading file mrm8488/RuPERTa-base-save\\tokenizer_config.json\n",
      "Disabling tokenizer parallelism, we're using DataLoader multithreading already\n",
      "100%|██████████| 7353/7353 [10:48<00:00, 11.33it/s]\n"
     ]
    },
    {
     "data": {
      "image/png": "[encoded data removed]",
      "text/plain": [
       "<Figure size 720x720 with 2 Axes>"
      ]
     },
     "metadata": {
      "needs_background": "light"
     },
     "output_type": "display_data"
    }
   ],
   "source": [
    "test = predictEmotion(data, modelSaved )\n",
    "\n",
    "y_true = test['label']\n",
    "y_pred = test['predicted_label']\n",
    "labels = list(label2id)\n",
    "\n",
    "saveConfusionMatrix(y_true, y_pred)"
   ]
  },
  {
   "cell_type": "code",
   "execution_count": 31,
   "metadata": {},
   "outputs": [
    {
     "name": "stderr",
     "output_type": "stream",
     "text": [
      "c:\\Users\\Alejandro\\anaconda3\\lib\\site-packages\\sklearn\\metrics\\_classification.py:1245: UndefinedMetricWarning: Precision and F-score are ill-defined and being set to 0.0 in labels with no predicted samples. Use `zero_division` parameter to control this behavior.\n",
      "  _warn_prf(average, modifier, msg_start, len(result))\n",
      "c:\\Users\\Alejandro\\anaconda3\\lib\\site-packages\\sklearn\\metrics\\_classification.py:1245: UndefinedMetricWarning: Precision and F-score are ill-defined and being set to 0.0 in labels with no predicted samples. Use `zero_division` parameter to control this behavior.\n",
      "  _warn_prf(average, modifier, msg_start, len(result))\n",
      "c:\\Users\\Alejandro\\anaconda3\\lib\\site-packages\\sklearn\\metrics\\_classification.py:1245: UndefinedMetricWarning: Precision and F-score are ill-defined and being set to 0.0 in labels with no predicted samples. Use `zero_division` parameter to control this behavior.\n",
      "  _warn_prf(average, modifier, msg_start, len(result))\n"
     ]
    },
    {
     "data": {
      "text/html": [
       "<div>\n",
       "<style scoped>\n",
       "    .dataframe tbody tr th:only-of-type {\n",
       "        vertical-align: middle;\n",
       "    }\n",
       "\n",
       "    .dataframe tbody tr th {\n",
       "        vertical-align: top;\n",
       "    }\n",
       "\n",
       "    .dataframe thead th {\n",
       "        text-align: right;\n",
       "    }\n",
       "</style>\n",
       "<table border=\"1\" class=\"dataframe\">\n",
       "  <thead>\n",
       "    <tr style=\"text-align: right;\">\n",
       "      <th></th>\n",
       "      <th>precision</th>\n",
       "      <th>recall</th>\n",
       "      <th>f1-score</th>\n",
       "    </tr>\n",
       "  </thead>\n",
       "  <tbody>\n",
       "    <tr>\n",
       "      <th>suicidal</th>\n",
       "      <td>0.984252</td>\n",
       "      <td>0.980392</td>\n",
       "      <td>0.982318</td>\n",
       "    </tr>\n",
       "    <tr>\n",
       "      <th>neutral</th>\n",
       "      <td>0.966381</td>\n",
       "      <td>0.972642</td>\n",
       "      <td>0.969501</td>\n",
       "    </tr>\n",
       "    <tr>\n",
       "      <th>lonely</th>\n",
       "      <td>0.950575</td>\n",
       "      <td>0.976387</td>\n",
       "      <td>0.963308</td>\n",
       "    </tr>\n",
       "    <tr>\n",
       "      <th>depressed</th>\n",
       "      <td>0.918129</td>\n",
       "      <td>0.898855</td>\n",
       "      <td>0.908390</td>\n",
       "    </tr>\n",
       "    <tr>\n",
       "      <th>hopeless</th>\n",
       "      <td>0.885246</td>\n",
       "      <td>0.875676</td>\n",
       "      <td>0.880435</td>\n",
       "    </tr>\n",
       "    <tr>\n",
       "      <th>sadness</th>\n",
       "      <td>0.702564</td>\n",
       "      <td>0.668293</td>\n",
       "      <td>0.685000</td>\n",
       "    </tr>\n",
       "    <tr>\n",
       "      <th>disappointment</th>\n",
       "      <td>0.461631</td>\n",
       "      <td>0.818864</td>\n",
       "      <td>0.590417</td>\n",
       "    </tr>\n",
       "    <tr>\n",
       "      <th>anger</th>\n",
       "      <td>0.608491</td>\n",
       "      <td>0.533058</td>\n",
       "      <td>0.568282</td>\n",
       "    </tr>\n",
       "    <tr>\n",
       "      <th>remorse</th>\n",
       "      <td>0.691589</td>\n",
       "      <td>0.387435</td>\n",
       "      <td>0.496644</td>\n",
       "    </tr>\n",
       "    <tr>\n",
       "      <th>fear</th>\n",
       "      <td>0.575658</td>\n",
       "      <td>0.381264</td>\n",
       "      <td>0.458716</td>\n",
       "    </tr>\n",
       "    <tr>\n",
       "      <th>disgust</th>\n",
       "      <td>0.430052</td>\n",
       "      <td>0.356989</td>\n",
       "      <td>0.390129</td>\n",
       "    </tr>\n",
       "    <tr>\n",
       "      <th>embarrassment</th>\n",
       "      <td>1.000000</td>\n",
       "      <td>0.004762</td>\n",
       "      <td>0.009479</td>\n",
       "    </tr>\n",
       "    <tr>\n",
       "      <th>grief</th>\n",
       "      <td>0.000000</td>\n",
       "      <td>0.000000</td>\n",
       "      <td>0.000000</td>\n",
       "    </tr>\n",
       "    <tr>\n",
       "      <th>nervousness</th>\n",
       "      <td>0.000000</td>\n",
       "      <td>0.000000</td>\n",
       "      <td>0.000000</td>\n",
       "    </tr>\n",
       "    <tr>\n",
       "      <th>accuracy</th>\n",
       "      <td>0.779002</td>\n",
       "      <td>0.779002</td>\n",
       "      <td>0.779002</td>\n",
       "    </tr>\n",
       "    <tr>\n",
       "      <th>macro avg</th>\n",
       "      <td>0.655326</td>\n",
       "      <td>0.561044</td>\n",
       "      <td>0.564473</td>\n",
       "    </tr>\n",
       "    <tr>\n",
       "      <th>weighted avg</th>\n",
       "      <td>0.789558</td>\n",
       "      <td>0.779002</td>\n",
       "      <td>0.761188</td>\n",
       "    </tr>\n",
       "  </tbody>\n",
       "</table>\n",
       "</div>"
      ],
      "text/plain": [
       "                precision    recall  f1-score\n",
       "suicidal         0.984252  0.980392  0.982318\n",
       "neutral          0.966381  0.972642  0.969501\n",
       "lonely           0.950575  0.976387  0.963308\n",
       "depressed        0.918129  0.898855  0.908390\n",
       "hopeless         0.885246  0.875676  0.880435\n",
       "sadness          0.702564  0.668293  0.685000\n",
       "disappointment   0.461631  0.818864  0.590417\n",
       "anger            0.608491  0.533058  0.568282\n",
       "remorse          0.691589  0.387435  0.496644\n",
       "fear             0.575658  0.381264  0.458716\n",
       "disgust          0.430052  0.356989  0.390129\n",
       "embarrassment    1.000000  0.004762  0.009479\n",
       "grief            0.000000  0.000000  0.000000\n",
       "nervousness      0.000000  0.000000  0.000000\n",
       "accuracy         0.779002  0.779002  0.779002\n",
       "macro avg        0.655326  0.561044  0.564473\n",
       "weighted avg     0.789558  0.779002  0.761188"
      ]
     },
     "execution_count": 31,
     "metadata": {},
     "output_type": "execute_result"
    },
    {
     "data": {
      "image/png": "[encoded data removed]",
      "text/plain": [
       "<Figure size 432x288 with 2 Axes>"
      ]
     },
     "metadata": {
      "needs_background": "light"
     },
     "output_type": "display_data"
    }
   ],
   "source": [
    "saveClassificationReport(imgName, y_true, y_pred, labels)"
   ]
  },
  {
   "cell_type": "code",
   "execution_count": null,
   "metadata": {},
   "outputs": [],
   "source": [
    "#printMacroF1(y_true, y_pred)\n",
    "#print(\"\\nMacro:\", f1_score(y_true, y_pred, average='macro'))\n"
   ]
  },
  {
   "cell_type": "markdown",
   "metadata": {},
   "source": [
    "--------------------"
   ]
  },
  {
   "cell_type": "markdown",
   "metadata": {},
   "source": [
    "### Text cleaning"
   ]
  },
  {
   "cell_type": "code",
   "execution_count": 44,
   "metadata": {},
   "outputs": [],
   "source": [
    "trans_tab = dict.fromkeys(map(ord, u'\\u0301\\u0308'), None)\n",
    "\n",
    "def clean_text(text): #without removing hastags #word\n",
    "    text = normalize('NFKC', normalize('NFKD', text).translate(trans_tab))\n",
    "    text = re.sub(\"RT TUSERUSER :\", \" \", text) # remove newline\n",
    "    text = re.sub(\"TUSERUSER\", \" \", text) # remove newline\n",
    "    text = re.sub(\"\\n'\", \" \", text) # remove newline\n",
    "    text = re.sub(\"\\'\", \"\", text) # remove backslash-apostrophe\n",
    "    text = re.sub(\"[^a-zA-ZÑñ]\",\" \",text) # remove non alphabetic\n",
    "    text = re.sub(r\"(@\\w+)|#|&|!\", \" \", text) #remo @peson\n",
    "    text = re.sub(r\"http\\S+.*\", \" \", text) #renove links\n",
    "    text = ' '.join(text.split()) # remove whitespaces \n",
    "    text = text.lower()  # to lowercase \n",
    "\n",
    "    return text\n"
   ]
  },
  {
   "cell_type": "markdown",
   "metadata": {},
   "source": [
    "--------------"
   ]
  },
  {
   "cell_type": "markdown",
   "metadata": {},
   "source": [
    "### Fine-tuning cleaned dataset"
   ]
  },
  {
   "cell_type": "code",
   "execution_count": null,
   "metadata": {},
   "outputs": [],
   "source": [
    "train_clean = pd.read_csv('train_clean.csv', sep='|')\n",
    "validation_clean = pd.read_csv('validation_clean.csv', sep='|')\n",
    "test_clean = pd.read_csv('test_clean.csv', sep='|')\n",
    "\n",
    "train_clean['tweet'] = train_clean['tweet'].astype(str)\n",
    "validation_clean['tweet'] = validation_clean['tweet'].astype(str)\n",
    "test_clean['tweet'] = test_clean['tweet'].astype(str)\n",
    "\n",
    "train_dataset_clean = Dataset.from_pandas(train_clean)\n",
    "validation_dataset_clean = Dataset.from_pandas(validation_clean)\n",
    "test_dataset_clean = Dataset.from_pandas(test_clean)\n",
    "\n",
    "df_esp_final_clean = pd.read_csv('ESP_FINAL_CORPUS_CLEAN.csv', sep='|')\n",
    "\n",
    "df_esp_final_clean.emotion.value_counts()\n",
    "df_esp_final_clean.emotion = pd.Categorical(df_esp_final_clean.emotion)\n",
    "df_esp_final_clean['label'] = df_esp_final_clean.emotion.cat.codes\n",
    "\n",
    "id2label_clean = df_esp_final_clean[['emotion', 'label']].drop_duplicates(keep='first').sort_values(by='label').reset_index(drop=True)['emotion'].to_dict()\n",
    "label2id_clean = {v:k for k,v in id2label_clean.items()}\n",
    "\n",
    "train_dataset_clean = train_dataset_clean.map(tokenize_tweets, batched=True)\n",
    "validation_dataset_clean = validation_dataset_clean.map(tokenize_tweets, batched=True)\n",
    "test_dataset_clean = test_dataset_clean.map(tokenize_tweets, batched=True)\n",
    "\n",
    "\n",
    "class_weights_clean = (1 - (train_clean['label'].value_counts().sort_index() /len(train_clean))).values \n",
    "class_weights_clean\n",
    "\n",
    "class_weights_clean = torch.from_numpy(class_weights_clean).float().to(\"cuda\")\n",
    "\n",
    "torch.cuda.is_available()\n",
    "\n",
    "train_dataset_clean = train_dataset_clean.rename_column(\"label\", \"labels\")\n",
    "validation_dataset_clean = validation_dataset_clean.rename_column(\"label\", \"labels\")\n",
    "test_dataset_clean = test_dataset_clean.rename_column(\"label\", \"labels\")\n",
    "\n",
    "train_dataset_clean = train_dataset_clean.rename_column(\"tweet\", \"text\")\n",
    "validation_dataset_clean = validation_dataset_clean.rename_column(\"tweet\", \"text\")\n",
    "test_dataset_clean = test_dataset_clean.rename_column(\"tweet\", \"text\")\n",
    "\n",
    "\n",
    "batch_size = 16\n",
    "logging_steps = len(train_dataset_clean)\n",
    "output_dir_clean = \"finetuned-emotion-clean\"\n",
    "training_args = TrainingArguments(output_dir=output_dir_clean,\n",
    "                                  num_train_epochs=2, \n",
    "                                  learning_rate=5e-5, \n",
    "                                  per_device_train_batch_size=batch_size,\n",
    "                                  per_device_eval_batch_size=batch_size, \n",
    "                                  weight_decay=0.01, \n",
    "                                  evaluation_strategy=\"epoch\", \n",
    "                                  logging_steps=logging_steps, \n",
    "                                  fp16=True\n",
    "                                  )\n",
    "                         \n",
    "trainer = WheightedLossTrainer(model=model,\n",
    "                               args=training_args,\n",
    "                               compute_metrics=compute_metrics,\n",
    "                               train_dataset=train_dataset_clean,\n",
    "                               eval_dataset=validation_dataset_clean,\n",
    "                               tokenizer=tokenizer)\n",
    "trainer.train()\n",
    "\n",
    "trainer.save_model(model_ckpt + '-save-clean')\n",
    "tokenizer.save_pretrained(model_ckpt + '-save-clean')\n",
    "\n",
    "trainer.evaluate()"
   ]
  },
  {
   "cell_type": "code",
   "execution_count": 35,
   "metadata": {},
   "outputs": [],
   "source": [
    "imgName = 'RuPERTa-base-clean'\n",
    "data = 'test_clean.csv'\n",
    "modelSaved = 'mrm8488/RuPERTa-base-save-clean'"
   ]
  },
  {
   "cell_type": "code",
   "execution_count": 36,
   "metadata": {},
   "outputs": [
    {
     "name": "stderr",
     "output_type": "stream",
     "text": [
      "loading configuration file mrm8488/RuPERTa-base-save-clean\\config.json\n",
      "Model config RobertaConfig {\n",
      "  \"_name_or_path\": \"mrm8488/RuPERTa-base-save-clean\",\n",
      "  \"_num_labels\": 2,\n",
      "  \"architectures\": [\n",
      "    \"RobertaForSequenceClassification\"\n",
      "  ],\n",
      "  \"attention_probs_dropout_prob\": 0.1,\n",
      "  \"bos_token_id\": 0,\n",
      "  \"classifier_dropout\": null,\n",
      "  \"eos_token_id\": 2,\n",
      "  \"hidden_act\": \"gelu\",\n",
      "  \"hidden_dropout_prob\": 0.1,\n",
      "  \"hidden_size\": 768,\n",
      "  \"id2label\": {\n",
      "    \"0\": \"anger\",\n",
      "    \"1\": \"depressed\",\n",
      "    \"2\": \"disappointment\",\n",
      "    \"3\": \"disgust\",\n",
      "    \"4\": \"embarrassment\",\n",
      "    \"5\": \"fear\",\n",
      "    \"6\": \"grief\",\n",
      "    \"7\": \"hopeless\",\n",
      "    \"8\": \"lonely\",\n",
      "    \"9\": \"nervousness\",\n",
      "    \"10\": \"neutral\",\n",
      "    \"11\": \"remorse\",\n",
      "    \"12\": \"sadness\",\n",
      "    \"13\": \"suicidal\"\n",
      "  },\n",
      "  \"initializer_range\": 0.02,\n",
      "  \"intermediate_size\": 3072,\n",
      "  \"label2id\": {\n",
      "    \"anger\": 0,\n",
      "    \"depressed\": 1,\n",
      "    \"disappointment\": 2,\n",
      "    \"disgust\": 3,\n",
      "    \"embarrassment\": 4,\n",
      "    \"fear\": 5,\n",
      "    \"grief\": 6,\n",
      "    \"hopeless\": 7,\n",
      "    \"lonely\": 8,\n",
      "    \"nervousness\": 9,\n",
      "    \"neutral\": 10,\n",
      "    \"remorse\": 11,\n",
      "    \"sadness\": 12,\n",
      "    \"suicidal\": 13\n",
      "  },\n",
      "  \"layer_norm_eps\": 1e-05,\n",
      "  \"max_position_embeddings\": 514,\n",
      "  \"model_type\": \"roberta\",\n",
      "  \"num_attention_heads\": 12,\n",
      "  \"num_hidden_layers\": 12,\n",
      "  \"output_past\": true,\n",
      "  \"pad_token_id\": 1,\n",
      "  \"position_embedding_type\": \"absolute\",\n",
      "  \"problem_type\": \"single_label_classification\",\n",
      "  \"torch_dtype\": \"float32\",\n",
      "  \"transformers_version\": \"4.18.0\",\n",
      "  \"type_vocab_size\": 1,\n",
      "  \"use_cache\": true,\n",
      "  \"vocab_size\": 52000\n",
      "}\n",
      "\n",
      "loading configuration file mrm8488/RuPERTa-base-save-clean\\config.json\n",
      "Model config RobertaConfig {\n",
      "  \"_name_or_path\": \"mrm8488/RuPERTa-base-save-clean\",\n",
      "  \"_num_labels\": 2,\n",
      "  \"architectures\": [\n",
      "    \"RobertaForSequenceClassification\"\n",
      "  ],\n",
      "  \"attention_probs_dropout_prob\": 0.1,\n",
      "  \"bos_token_id\": 0,\n",
      "  \"classifier_dropout\": null,\n",
      "  \"eos_token_id\": 2,\n",
      "  \"hidden_act\": \"gelu\",\n",
      "  \"hidden_dropout_prob\": 0.1,\n",
      "  \"hidden_size\": 768,\n",
      "  \"id2label\": {\n",
      "    \"0\": \"anger\",\n",
      "    \"1\": \"depressed\",\n",
      "    \"2\": \"disappointment\",\n",
      "    \"3\": \"disgust\",\n",
      "    \"4\": \"embarrassment\",\n",
      "    \"5\": \"fear\",\n",
      "    \"6\": \"grief\",\n",
      "    \"7\": \"hopeless\",\n",
      "    \"8\": \"lonely\",\n",
      "    \"9\": \"nervousness\",\n",
      "    \"10\": \"neutral\",\n",
      "    \"11\": \"remorse\",\n",
      "    \"12\": \"sadness\",\n",
      "    \"13\": \"suicidal\"\n",
      "  },\n",
      "  \"initializer_range\": 0.02,\n",
      "  \"intermediate_size\": 3072,\n",
      "  \"label2id\": {\n",
      "    \"anger\": 0,\n",
      "    \"depressed\": 1,\n",
      "    \"disappointment\": 2,\n",
      "    \"disgust\": 3,\n",
      "    \"embarrassment\": 4,\n",
      "    \"fear\": 5,\n",
      "    \"grief\": 6,\n",
      "    \"hopeless\": 7,\n",
      "    \"lonely\": 8,\n",
      "    \"nervousness\": 9,\n",
      "    \"neutral\": 10,\n",
      "    \"remorse\": 11,\n",
      "    \"sadness\": 12,\n",
      "    \"suicidal\": 13\n",
      "  },\n",
      "  \"layer_norm_eps\": 1e-05,\n",
      "  \"max_position_embeddings\": 514,\n",
      "  \"model_type\": \"roberta\",\n",
      "  \"num_attention_heads\": 12,\n",
      "  \"num_hidden_layers\": 12,\n",
      "  \"output_past\": true,\n",
      "  \"pad_token_id\": 1,\n",
      "  \"position_embedding_type\": \"absolute\",\n",
      "  \"problem_type\": \"single_label_classification\",\n",
      "  \"torch_dtype\": \"float32\",\n",
      "  \"transformers_version\": \"4.18.0\",\n",
      "  \"type_vocab_size\": 1,\n",
      "  \"use_cache\": true,\n",
      "  \"vocab_size\": 52000\n",
      "}\n",
      "\n",
      "loading weights file mrm8488/RuPERTa-base-save-clean\\pytorch_model.bin\n",
      "All model checkpoint weights were used when initializing RobertaForSequenceClassification.\n",
      "\n",
      "All the weights of RobertaForSequenceClassification were initialized from the model checkpoint at mrm8488/RuPERTa-base-save-clean.\n",
      "If your task is similar to the task the model of the checkpoint was trained on, you can already use RobertaForSequenceClassification for predictions without further training.\n",
      "Didn't find file mrm8488/RuPERTa-base-save-clean\\added_tokens.json. We won't load it.\n",
      "loading file mrm8488/RuPERTa-base-save-clean\\vocab.json\n",
      "loading file mrm8488/RuPERTa-base-save-clean\\merges.txt\n",
      "loading file mrm8488/RuPERTa-base-save-clean\\tokenizer.json\n",
      "loading file None\n",
      "loading file mrm8488/RuPERTa-base-save-clean\\special_tokens_map.json\n",
      "loading file mrm8488/RuPERTa-base-save-clean\\tokenizer_config.json\n",
      "100%|██████████| 7353/7353 [09:23<00:00, 13.04it/s]\n"
     ]
    },
    {
     "data": {
      "image/png": "[encoded data removed]",
      "text/plain": [
       "<Figure size 720x720 with 2 Axes>"
      ]
     },
     "metadata": {
      "needs_background": "light"
     },
     "output_type": "display_data"
    }
   ],
   "source": [
    "test = predictEmotion(data, modelSaved)\n",
    "\n",
    "y_true = test['label']\n",
    "y_pred = test['predicted_label']\n",
    "labels = list(label2id)\n",
    "\n",
    "saveConfusionMatrix(y_true, y_pred)"
   ]
  },
  {
   "cell_type": "code",
   "execution_count": 37,
   "metadata": {},
   "outputs": [
    {
     "data": {
      "text/html": [
       "<div>\n",
       "<style scoped>\n",
       "    .dataframe tbody tr th:only-of-type {\n",
       "        vertical-align: middle;\n",
       "    }\n",
       "\n",
       "    .dataframe tbody tr th {\n",
       "        vertical-align: top;\n",
       "    }\n",
       "\n",
       "    .dataframe thead th {\n",
       "        text-align: right;\n",
       "    }\n",
       "</style>\n",
       "<table border=\"1\" class=\"dataframe\">\n",
       "  <thead>\n",
       "    <tr style=\"text-align: right;\">\n",
       "      <th></th>\n",
       "      <th>precision</th>\n",
       "      <th>recall</th>\n",
       "      <th>f1-score</th>\n",
       "    </tr>\n",
       "  </thead>\n",
       "  <tbody>\n",
       "    <tr>\n",
       "      <th>suicidal</th>\n",
       "      <td>0.978578</td>\n",
       "      <td>0.984329</td>\n",
       "      <td>0.981445</td>\n",
       "    </tr>\n",
       "    <tr>\n",
       "      <th>lonely</th>\n",
       "      <td>0.939290</td>\n",
       "      <td>0.966981</td>\n",
       "      <td>0.952934</td>\n",
       "    </tr>\n",
       "    <tr>\n",
       "      <th>depressed</th>\n",
       "      <td>0.887417</td>\n",
       "      <td>0.895038</td>\n",
       "      <td>0.891211</td>\n",
       "    </tr>\n",
       "    <tr>\n",
       "      <th>neutral</th>\n",
       "      <td>0.848958</td>\n",
       "      <td>0.821454</td>\n",
       "      <td>0.834980</td>\n",
       "    </tr>\n",
       "    <tr>\n",
       "      <th>hopeless</th>\n",
       "      <td>0.811224</td>\n",
       "      <td>0.859459</td>\n",
       "      <td>0.834646</td>\n",
       "    </tr>\n",
       "    <tr>\n",
       "      <th>sadness</th>\n",
       "      <td>0.717172</td>\n",
       "      <td>0.692683</td>\n",
       "      <td>0.704715</td>\n",
       "    </tr>\n",
       "    <tr>\n",
       "      <th>disappointment</th>\n",
       "      <td>0.438028</td>\n",
       "      <td>0.666667</td>\n",
       "      <td>0.528687</td>\n",
       "    </tr>\n",
       "    <tr>\n",
       "      <th>remorse</th>\n",
       "      <td>0.721154</td>\n",
       "      <td>0.392670</td>\n",
       "      <td>0.508475</td>\n",
       "    </tr>\n",
       "    <tr>\n",
       "      <th>fear</th>\n",
       "      <td>0.517241</td>\n",
       "      <td>0.457516</td>\n",
       "      <td>0.485549</td>\n",
       "    </tr>\n",
       "    <tr>\n",
       "      <th>anger</th>\n",
       "      <td>0.492147</td>\n",
       "      <td>0.391667</td>\n",
       "      <td>0.436195</td>\n",
       "    </tr>\n",
       "    <tr>\n",
       "      <th>disgust</th>\n",
       "      <td>0.414687</td>\n",
       "      <td>0.412903</td>\n",
       "      <td>0.413793</td>\n",
       "    </tr>\n",
       "    <tr>\n",
       "      <th>embarrassment</th>\n",
       "      <td>0.348485</td>\n",
       "      <td>0.109524</td>\n",
       "      <td>0.166667</td>\n",
       "    </tr>\n",
       "    <tr>\n",
       "      <th>nervousness</th>\n",
       "      <td>1.000000</td>\n",
       "      <td>0.063063</td>\n",
       "      <td>0.118644</td>\n",
       "    </tr>\n",
       "    <tr>\n",
       "      <th>grief</th>\n",
       "      <td>0.000000</td>\n",
       "      <td>0.000000</td>\n",
       "      <td>0.000000</td>\n",
       "    </tr>\n",
       "    <tr>\n",
       "      <th>accuracy</th>\n",
       "      <td>0.738202</td>\n",
       "      <td>0.738202</td>\n",
       "      <td>0.738202</td>\n",
       "    </tr>\n",
       "    <tr>\n",
       "      <th>macro avg</th>\n",
       "      <td>0.651027</td>\n",
       "      <td>0.550997</td>\n",
       "      <td>0.561281</td>\n",
       "    </tr>\n",
       "    <tr>\n",
       "      <th>weighted avg</th>\n",
       "      <td>0.745399</td>\n",
       "      <td>0.738202</td>\n",
       "      <td>0.729133</td>\n",
       "    </tr>\n",
       "  </tbody>\n",
       "</table>\n",
       "</div>"
      ],
      "text/plain": [
       "                precision    recall  f1-score\n",
       "suicidal         0.978578  0.984329  0.981445\n",
       "lonely           0.939290  0.966981  0.952934\n",
       "depressed        0.887417  0.895038  0.891211\n",
       "neutral          0.848958  0.821454  0.834980\n",
       "hopeless         0.811224  0.859459  0.834646\n",
       "sadness          0.717172  0.692683  0.704715\n",
       "disappointment   0.438028  0.666667  0.528687\n",
       "remorse          0.721154  0.392670  0.508475\n",
       "fear             0.517241  0.457516  0.485549\n",
       "anger            0.492147  0.391667  0.436195\n",
       "disgust          0.414687  0.412903  0.413793\n",
       "embarrassment    0.348485  0.109524  0.166667\n",
       "nervousness      1.000000  0.063063  0.118644\n",
       "grief            0.000000  0.000000  0.000000\n",
       "accuracy         0.738202  0.738202  0.738202\n",
       "macro avg        0.651027  0.550997  0.561281\n",
       "weighted avg     0.745399  0.738202  0.729133"
      ]
     },
     "execution_count": 37,
     "metadata": {},
     "output_type": "execute_result"
    },
    {
     "data": {
      "image/png": "[encoded data removed]",
      "text/plain": [
       "<Figure size 432x288 with 2 Axes>"
      ]
     },
     "metadata": {
      "needs_background": "light"
     },
     "output_type": "display_data"
    }
   ],
   "source": [
    "saveClassificationReport(imgName, y_true, y_pred, labels)"
   ]
  },
  {
   "cell_type": "markdown",
   "metadata": {},
   "source": [
    "----------------"
   ]
  },
  {
   "cell_type": "markdown",
   "metadata": {},
   "source": [
    "### Words frequency\n"
   ]
  },
  {
   "cell_type": "code",
   "execution_count": 115,
   "metadata": {},
   "outputs": [],
   "source": [
    "def freq_words(x, plt): \n",
    "  all_words = ' '.join([text for text in x]) #join all words and split\n",
    "  all_words = all_words.split() \n",
    "  fdist = nltk.FreqDist(all_words) #freq\n",
    "  \n",
    "  words_df = pd.DataFrame({'word':list(fdist.keys()), 'count':list(fdist.values())}) \n",
    "  words_df.sort_values(by='count', ascending=False, inplace=True)\n",
    "  \n",
    "  if (plt):\n",
    "    fig = plt.figure(figsize=(12,8))\n",
    "    sns.barplot(data= words_df[0:20], x='count', y='word')\n",
    "\n",
    "  return words_df[0:20]"
   ]
  },
  {
   "cell_type": "markdown",
   "metadata": {},
   "source": [
    "### Removing stopwords\n"
   ]
  },
  {
   "cell_type": "code",
   "execution_count": null,
   "metadata": {},
   "outputs": [
    {
     "name": "stderr",
     "output_type": "stream",
     "text": [
      "[nltk_data] Downloading package stopwords to\n",
      "[nltk_data]     C:\\Users\\Alejandro\\AppData\\Roaming\\nltk_data...\n",
      "[nltk_data]   Package stopwords is already up-to-date!\n"
     ]
    }
   ],
   "source": [
    "nltk.download('stopwords')\n",
    "stop_words = set(stopwords.words('spanish'))\n",
    "\n",
    "# remove stopwords\n",
    "def remove_stopwords(text):\n",
    "    no_stopword_text = [w for w in text.split() if not w in stop_words]\n",
    "    return ' '.join(no_stopword_text)\n",
    "\n"
   ]
  },
  {
   "cell_type": "code",
   "execution_count": 116,
   "metadata": {},
   "outputs": [],
   "source": [
    "df_esp_final_clean = pd.read_csv('ESP_FINAL_CORPUS_CLEAN.csv', sep='|')"
   ]
  },
  {
   "cell_type": "code",
   "execution_count": 121,
   "metadata": {},
   "outputs": [],
   "source": [
    "disappointment_tweets = df_esp_final_clean.tweet[df_esp_final_clean.emotion == 'disappointment']\n",
    "disgust_tweets = df_esp_final_clean.tweet[df_esp_final_clean.emotion == 'disgust']\n",
    "embarrassment_tweets = df_esp_final_clean.tweet[df_esp_final_clean.emotion == 'embarrassment']\n",
    "fear_tweets = df_esp_final_clean.tweet[df_esp_final_clean.emotion == 'fear']\n",
    "nervousness_tweets = df_esp_final_clean.tweet[df_esp_final_clean.emotion == 'nervousness']\n",
    "hopeless_tweets = df_esp_final_clean.tweet[df_esp_final_clean.emotion == 'hopeless']\n"
   ]
  },
  {
   "cell_type": "code",
   "execution_count": 122,
   "metadata": {},
   "outputs": [],
   "source": [
    "dissappointment_no_stopwords = disappointment_tweets.apply(lambda x: remove_stopwords(x)) #remove stopwords\n",
    "disgust_no_stopwords = disgust_tweets.apply(lambda x: remove_stopwords(x)) \n",
    "embarrassment_no_stopwords = embarrassment_tweets.apply(lambda x: remove_stopwords(x)) \n",
    "fear_no_stopwords = fear_tweets.apply(lambda x: remove_stopwords(x))\n",
    "nervousness_stopwords = nervousness_tweets.apply(lambda x: remove_stopwords(x))\n",
    "hopeless_no_stopwords = hopeless_tweets.apply(lambda x: remove_stopwords(x))\n"
   ]
  },
  {
   "cell_type": "code",
   "execution_count": 123,
   "metadata": {},
   "outputs": [],
   "source": [
    "disappointment_freq = freq_words(dissappointment_no_stopwords, False) #most freqent words without stopwords\n",
    "disgust_freq = freq_words(disgust_no_stopwords, False) \n",
    "embarrassment_freq = freq_words(embarrassment_no_stopwords, False) \n",
    "fear_freq = freq_words(fear_no_stopwords, False) \n",
    "nervousness_freq = freq_words(nervousness_stopwords, False) \n",
    "hopeless_freq = freq_words(hopeless_no_stopwords, False) \n"
   ]
  },
  {
   "cell_type": "code",
   "execution_count": 127,
   "metadata": {},
   "outputs": [],
   "source": [
    "freq_merge0 = pd.concat([disappointment_freq, disgust_freq, embarrassment_freq, fear_freq], keys=['disappointment', 'disgust', 'embarrassment', 'fear']).reset_index().rename(columns={'level_0': 'Clase'})\n"
   ]
  },
  {
   "cell_type": "code",
   "execution_count": 131,
   "metadata": {},
   "outputs": [
    {
     "data": {
      "text/plain": [
       "<seaborn.axisgrid.FacetGrid at 0x2131d2fcd00>"
      ]
     },
     "execution_count": 131,
     "metadata": {},
     "output_type": "execute_result"
    },
    {
     "data": {
      "image/png": "[encoded data removed]",
      "text/plain": [
       "<Figure size 836.35x720 with 1 Axes>"
      ]
     },
     "metadata": {},
     "output_type": "display_data"
    }
   ],
   "source": [
    "sns.catplot(x='count', y='word', hue='Clase', kind='bar', data=freq_merge0, height=10, aspect=10/10)"
   ]
  },
  {
   "cell_type": "code",
   "execution_count": 132,
   "metadata": {},
   "outputs": [
    {
     "data": {
      "text/plain": [
       "<seaborn.axisgrid.FacetGrid at 0x21323a57610>"
      ]
     },
     "execution_count": 132,
     "metadata": {},
     "output_type": "execute_result"
    },
    {
     "data": {
      "image/png": "[encoded data removed]",
      "text/plain": [
       "<Figure size 1122.48x1008 with 1 Axes>"
      ]
     },
     "metadata": {},
     "output_type": "display_data"
    }
   ],
   "source": [
    "freq_merge1 = pd.concat([disappointment_freq, nervousness_freq, hopeless_freq], keys=['disappointment', 'nervousness', 'hopeless',]).reset_index().rename(columns={'level_0': 'Clase'})\n",
    "\n",
    "sns.catplot(x='count', y='word', hue='Clase', kind='bar', data=freq_merge1, height=14, aspect=14/14)"
   ]
  }
 ],
 "metadata": {
  "interpreter": {
   "hash": "2b01844f640d8b23b6d17c702ba5511fd1079d06a023bf5eea4a54f4db1bc2f6"
  },
  "kernelspec": {
   "display_name": "Python 3.8.8 ('base')",
   "language": "python",
   "name": "python3"
  },
  "language_info": {
   "codemirror_mode": {
    "name": "ipython",
    "version": 3
   },
   "file_extension": ".py",
   "mimetype": "text/x-python",
   "name": "python",
   "nbconvert_exporter": "python",
   "pygments_lexer": "ipython3",
   "version": "3.8.8"
  }
 },
 "nbformat": 4,
 "nbformat_minor": 2
}
